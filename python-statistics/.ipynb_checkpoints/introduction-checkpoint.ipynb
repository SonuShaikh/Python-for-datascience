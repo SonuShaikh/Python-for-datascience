{
 "cells": [
  {
   "cell_type": "code",
   "execution_count": 14,
   "metadata": {},
   "outputs": [
    {
     "name": "stdout",
     "output_type": "stream",
     "text": [
      "Combination Data\n",
      "('H', 'O') ('H', 'R') ('H', 'S') ('H', 'E') ('O', 'R') ('O', 'S') ('O', 'E') ('R', 'S') ('R', 'E') ('S', 'E') \n",
      "\n",
      " Permutation Data\n",
      "('H', 'O') ('H', 'R') ('H', 'S') ('H', 'E') ('O', 'H') ('O', 'R') ('O', 'S') ('O', 'E') ('R', 'H') ('R', 'O') ('R', 'S') ('R', 'E') ('S', 'H') ('S', 'O') ('S', 'R') ('S', 'E') ('E', 'H') ('E', 'O') ('E', 'R') ('E', 'S') \n",
      "0\n",
      "0\n"
     ]
    }
   ],
   "source": [
    "from itertools import combinations\n",
    "from itertools import permutations\n",
    "import numpy as np\n",
    "import math\n",
    "arr = np.array(['H','O','R','S','E'])\n",
    "c_arr = combinations(arr,2)\n",
    "p_arr = permutations(arr,2)\n",
    "\n",
    "print('Combination Data')\n",
    "for item in c_arr:\n",
    "    print(item, end = ' ')\n",
    "    \n",
    "print('\\n\\n Permutation Data')\n",
    "for item in p_arr:\n",
    "    print(item, end = ' ')\n",
    "    \n",
    "print()\n",
    "\n",
    "print(len(list(c_arr)))\n",
    "print(len(list(p_arr)))"
   ]
  },
  {
   "cell_type": "code",
   "execution_count": null,
   "metadata": {},
   "outputs": [],
   "source": []
  }
 ],
 "metadata": {
  "kernelspec": {
   "display_name": "Python 3",
   "language": "python",
   "name": "python3"
  },
  "language_info": {
   "codemirror_mode": {
    "name": "ipython",
    "version": 3
   },
   "file_extension": ".py",
   "mimetype": "text/x-python",
   "name": "python",
   "nbconvert_exporter": "python",
   "pygments_lexer": "ipython3",
   "version": "3.8.5"
  }
 },
 "nbformat": 4,
 "nbformat_minor": 4
}
