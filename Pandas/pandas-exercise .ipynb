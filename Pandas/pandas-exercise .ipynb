{
 "cells": [
  {
   "cell_type": "code",
   "execution_count": 1,
   "metadata": {},
   "outputs": [],
   "source": [
    "import pandas as pd \n",
    "import numpy as np\n",
    "import random\n",
    "from IPython.display import display"
   ]
  },
  {
   "cell_type": "code",
   "execution_count": 49,
   "metadata": {},
   "outputs": [
    {
     "name": "stdout",
     "output_type": "stream",
     "text": [
      "2017-09-04 00:00:00\n",
      "datetime64[ns]\n",
      "[ True  True]\n",
      "MultiIndex([('classA', 's1'),\n",
      "            ('classA', 's2'),\n",
      "            ('classA', 's3'),\n",
      "            ('classA', 's4'),\n",
      "            ('classA', 's5'),\n",
      "            ('classB', 's1'),\n",
      "            ('classB', 's2'),\n",
      "            ('classB', 's3'),\n",
      "            ('classB', 's4'),\n",
      "            ('classB', 's5')],\n",
      "           names=['name', 'values'])\n"
     ]
    }
   ],
   "source": [
    "# 4 Index\n",
    "#Task 1\n",
    "dates = pd.date_range('1-sep-2017','15-sep-2017')\n",
    "print(dates[3])\n",
    "\n",
    "#Task 2\n",
    "datelist = ['14-sep-2017','9-sep-2017']\n",
    "dates_to_be_searched = [pd.to_datetime(x) for x in datelist]\n",
    "print(dates_to_be_searched)\n",
    "\n",
    "\n",
    "#Task 3\n",
    "result = dates_to_be_searched.isin(dates)\n",
    "print(result)\n",
    "\n",
    "\n",
    "#Task 4\n",
    "arraylist = [['classA']*5 + ['classB']*5,['s1','s2','s3','s4','s5']*2]\n",
    "mi_index = pd.MultiIndex.from_arrays(arraylist,names=['name','values'])\n",
    "print(mi_index)"
   ]
  },
  {
   "cell_type": "code",
   "execution_count": 55,
   "metadata": {},
   "outputs": [
    {
     "data": {
      "text/plain": [
       "dtype('<M8[ns]')"
      ]
     },
     "execution_count": 55,
     "metadata": {},
     "output_type": "execute_result"
    }
   ],
   "source": [
    "datelist = ['14-sep-2017','9-sep-2017']\n",
    "dates_to_be_searched = pd.to_datetime(datelist)\n",
    "dates_to_be_searched.dtype"
   ]
  },
  {
   "cell_type": "code",
   "execution_count": 25,
   "metadata": {},
   "outputs": [
    {
     "name": "stdout",
     "output_type": "stream",
     "text": [
      "(5,)\n",
      "float64\n",
      "(5, 2)\n",
      "172.37417741633146\n",
      "Index(['Student_height', 'Student_weight'], dtype='object')\n",
      "<pandas.__getattr__.<locals>.Panel object at 0x0000016DA92B04C0>\n"
     ]
    },
    {
     "name": "stderr",
     "output_type": "stream",
     "text": [
      "<ipython-input-25-8dfadedd5b5b>:48: FutureWarning: The Panel class is removed from pandas. Accessing it from the top-level namespace will also be removed in the next version\n",
      "  p = pd.Panel()\n"
     ]
    }
   ],
   "source": [
    "#Write your code here\n",
    "import pandas as pd\n",
    "import numpy as np\n",
    "import random\n",
    "\n",
    "#Task 1\n",
    "hdata = [176.2,158.4,167.6,156.2,161.4]\n",
    "heights_A = pd.Series(hdata,index=['s1','s2','s3','s4','s5'])\n",
    "hshape = heights_A.shape\n",
    "print(hshape)\n",
    "\n",
    "#Task 2\n",
    "\n",
    "wdata = [85.1,90.2,76.8,80.4,78.9]\n",
    "weight_A = pd.Series(wdata,index=['s1','s2','s3','s4','s5'])\n",
    "type_of_weighta = weight_A.dtype\n",
    "print(type_of_weighta)\n",
    "\n",
    "#Task 3\n",
    "data = {'Student_height':heights_A,'Student_weight':weight_A}\n",
    "df_A = pd.DataFrame(data)\n",
    "print(df_A.shape)\n",
    "\n",
    "#Task 4\n",
    "my_mean = 170.0\n",
    "my_std = 25\n",
    "np.random.seed(100)\n",
    "heights_B =  pd.Series(np.random.normal(loc=my_mean, scale=my_std, size=5))\n",
    "heights_B.index = ['s1', 's2', 's3', 's4','s5']\n",
    "\n",
    "my_mean1 = 75.0\n",
    "my_std1 = 12\n",
    "weights_B  = pd.Series(np.random.normal(loc=my_mean, scale=my_std, size=5))\n",
    "weights_B.index = ['s1', 's2', 's3', 's4','s5']\n",
    "print(heights_B.mean())\n",
    "\n",
    "\n",
    "#Task 5\n",
    "data = {'Student_height':heights_B,'Student_weight':weight_B}\n",
    "df_B = pd.DataFrame(data)\n",
    "for c in df_B.columns:\n",
    "    print(c)\n",
    "#print(df_B.columns)\n",
    "\n",
    "#Task 6\n",
    "'''dataPanel = {'ClassA':df_A,'ClassB':df_B}\n",
    "p = pd.Panel(data=dataPanel,items=['Student_height','Student_weight'],major_axis=['s1','s2','s3','s4','s5'])\n",
    "print(p.shape)'''\n",
    "\n",
    "p = pd.Panel()\n",
    "data = {'ClassA' : df_A, \n",
    "   'ClassB' : df_B}\n",
    "print(p)\n",
    "#172.37417741633146"
   ]
  },
  {
   "cell_type": "code",
   "execution_count": 48,
   "metadata": {},
   "outputs": [
    {
     "name": "stderr",
     "output_type": "stream",
     "text": [
      "<ipython-input-48-f003888fd4ad>:11: FutureWarning: The Panel class is removed from pandas. Accessing it from the top-level namespace will also be removed in the next version\n",
      "  panel = pd.Panel.from_dict(data, orient ='minor')\n"
     ]
    },
    {
     "ename": "AttributeError",
     "evalue": "type object 'Panel' has no attribute 'from_dict'",
     "output_type": "error",
     "traceback": [
      "\u001b[1;31m---------------------------------------------------------------------------\u001b[0m",
      "\u001b[1;31mAttributeError\u001b[0m                            Traceback (most recent call last)",
      "\u001b[1;32m<ipython-input-48-f003888fd4ad>\u001b[0m in \u001b[0;36m<module>\u001b[1;34m\u001b[0m\n\u001b[0;32m      9\u001b[0m \u001b[1;33m\u001b[0m\u001b[0m\n\u001b[0;32m     10\u001b[0m \u001b[1;31m# creating Panel\u001b[0m\u001b[1;33m\u001b[0m\u001b[1;33m\u001b[0m\u001b[1;33m\u001b[0m\u001b[0m\n\u001b[1;32m---> 11\u001b[1;33m \u001b[0mpanel\u001b[0m \u001b[1;33m=\u001b[0m \u001b[0mpd\u001b[0m\u001b[1;33m.\u001b[0m\u001b[0mPanel\u001b[0m\u001b[1;33m.\u001b[0m\u001b[0mfrom_dict\u001b[0m\u001b[1;33m(\u001b[0m\u001b[0mdata\u001b[0m\u001b[1;33m,\u001b[0m \u001b[0morient\u001b[0m \u001b[1;33m=\u001b[0m\u001b[1;34m'minor'\u001b[0m\u001b[1;33m)\u001b[0m\u001b[1;33m\u001b[0m\u001b[1;33m\u001b[0m\u001b[0m\n\u001b[0m\u001b[0;32m     12\u001b[0m \u001b[1;33m\u001b[0m\u001b[0m\n\u001b[0;32m     13\u001b[0m \u001b[0mprint\u001b[0m\u001b[1;33m(\u001b[0m\u001b[1;34m\"panel['b'] is - \\n\\n\"\u001b[0m\u001b[1;33m,\u001b[0m \u001b[0mpanel\u001b[0m\u001b[1;33m[\u001b[0m\u001b[1;34m'b'\u001b[0m\u001b[1;33m]\u001b[0m\u001b[1;33m,\u001b[0m \u001b[1;34m'\\n'\u001b[0m\u001b[1;33m)\u001b[0m\u001b[1;33m\u001b[0m\u001b[1;33m\u001b[0m\u001b[0m\n",
      "\u001b[1;31mAttributeError\u001b[0m: type object 'Panel' has no attribute 'from_dict'"
     ]
    }
   ],
   "source": [
    "# importing pandas module \n",
    "import pandas as pd \n",
    "import numpy as np \n",
    "\t\n",
    "df1 = pd.DataFrame({'a': ['Geeks', 'For', 'geeks', 'for', 'real'], \n",
    "\t\t\t\t\t'b': [11, 1.025, 333, 114.48, 1333]}) \n",
    "\t\t\t\t\t\t\n",
    "data = {'item1':df1, 'item2':df1} \n",
    "\t\n",
    "# creating Panel \n",
    "panel = pd.Panel.from_dict(data, orient ='minor') \n",
    "\t\n",
    "print(\"panel['b'] is - \\n\\n\", panel['b'], '\\n') \n",
    "\t\n",
    "print(\"\\nSize of panel['b'] is - \", panel['b'].shape) \n"
   ]
  },
  {
   "cell_type": "markdown",
   "metadata": {},
   "source": [
    "#### Question Number 2"
   ]
  },
  {
   "cell_type": "code",
   "execution_count": 10,
   "metadata": {},
   "outputs": [
    {
     "name": "stdout",
     "output_type": "stream",
     "text": [
      "158.4\n"
     ]
    }
   ],
   "source": [
    "\n",
    "#Task 1\n",
    "hdata = [176.2,158.4,167.6,156.2,161.4]\n",
    "heights_A = pd.Series(hdata,index=['s1','s2','s3','s4','s5'])\n",
    "print(heights_A['s2'])"
   ]
  },
  {
   "cell_type": "code",
   "execution_count": 39,
   "metadata": {},
   "outputs": [
    {
     "data": {
      "text/plain": [
       "s2    158.4\n",
       "s3    167.6\n",
       "s4    156.2\n",
       "dtype: float64"
      ]
     },
     "execution_count": 39,
     "metadata": {},
     "output_type": "execute_result"
    }
   ],
   "source": [
    "#Task 2\n",
    "heights_A[1:4]"
   ]
  },
  {
   "cell_type": "code",
   "execution_count": 40,
   "metadata": {},
   "outputs": [
    {
     "name": "stdout",
     "output_type": "stream",
     "text": [
      "float64\n",
      "<class 'pandas.core.series.Series'>\n"
     ]
    }
   ],
   "source": [
    "#Task 3 -\n",
    "wdata = [85.1,90.2,76.8,80.4,78.9]\n",
    "weight_A = pd.Series(wdata,index=['s1','s2','s3','s4','s5'])\n",
    "data = {'Student_height':heights_A,'Student_weight':weight_A}\n",
    "df_A = pd.DataFrame(data)\n",
    "height = df_A['Student_height']\n",
    "print(height.dtype)\n",
    "print(type(height))"
   ]
  },
  {
   "cell_type": "code",
   "execution_count": 16,
   "metadata": {},
   "outputs": [
    {
     "name": "stdout",
     "output_type": "stream",
     "text": [
      "    Student_height  Student_weight\n",
      "s1           176.2            85.1\n",
      "s2           158.4            90.2\n"
     ]
    }
   ],
   "source": [
    "#Task 4\n",
    "data = df_A.loc[['s1','s2']]\n",
    "df_s1s2 = pd.DataFrame(data)\n",
    "print(df_s1s2)"
   ]
  },
  {
   "cell_type": "code",
   "execution_count": 18,
   "metadata": {},
   "outputs": [
    {
     "name": "stdout",
     "output_type": "stream",
     "text": [
      "    Student_height  Student_weight\n",
      "s2           158.4            90.2\n",
      "s5           161.4            78.9\n",
      "s1           176.2            85.1\n"
     ]
    }
   ],
   "source": [
    "#Task 5\n",
    "data = df_A.loc[['s2','s5','s1']]\n",
    "df_s2s5se = pd.DataFrame(data)\n",
    "print(df_s2s5se)"
   ]
  },
  {
   "cell_type": "code",
   "execution_count": 28,
   "metadata": {},
   "outputs": [],
   "source": [
    "#Task 6\n",
    "index = df_A.index\n",
    "#df_A.loc[x : for x in index: x.endswith('1') | x.endswith('4'):]"
   ]
  },
  {
   "cell_type": "code",
   "execution_count": 22,
   "metadata": {},
   "outputs": [
    {
     "data": {
      "text/plain": [
       "5"
      ]
     },
     "execution_count": 22,
     "metadata": {},
     "output_type": "execute_result"
    }
   ],
   "source": [
    "len(df_A)"
   ]
  },
  {
   "cell_type": "markdown",
   "metadata": {},
   "source": [
    "#### Welcome to Python Pandas | 3 | Working with CSV files"
   ]
  },
  {
   "cell_type": "code",
   "execution_count": 6,
   "metadata": {
    "scrolled": true
   },
   "outputs": [
    {
     "data": {
      "text/html": [
       "<div>\n",
       "<style scoped>\n",
       "    .dataframe tbody tr th:only-of-type {\n",
       "        vertical-align: middle;\n",
       "    }\n",
       "\n",
       "    .dataframe tbody tr th {\n",
       "        vertical-align: top;\n",
       "    }\n",
       "\n",
       "    .dataframe thead th {\n",
       "        text-align: right;\n",
       "    }\n",
       "</style>\n",
       "<table border=\"1\" class=\"dataframe\">\n",
       "  <thead>\n",
       "    <tr style=\"text-align: right;\">\n",
       "      <th></th>\n",
       "      <th>Unnamed: 0</th>\n",
       "      <th>Student_height</th>\n",
       "      <th>Student_weight</th>\n",
       "    </tr>\n",
       "  </thead>\n",
       "  <tbody>\n",
       "    <tr>\n",
       "      <th>0</th>\n",
       "      <td>s1</td>\n",
       "      <td>176.2</td>\n",
       "      <td>85.1</td>\n",
       "    </tr>\n",
       "    <tr>\n",
       "      <th>1</th>\n",
       "      <td>s2</td>\n",
       "      <td>158.4</td>\n",
       "      <td>90.2</td>\n",
       "    </tr>\n",
       "    <tr>\n",
       "      <th>2</th>\n",
       "      <td>s3</td>\n",
       "      <td>167.6</td>\n",
       "      <td>76.8</td>\n",
       "    </tr>\n",
       "    <tr>\n",
       "      <th>3</th>\n",
       "      <td>s4</td>\n",
       "      <td>156.2</td>\n",
       "      <td>80.4</td>\n",
       "    </tr>\n",
       "    <tr>\n",
       "      <th>4</th>\n",
       "      <td>s5</td>\n",
       "      <td>161.4</td>\n",
       "      <td>78.9</td>\n",
       "    </tr>\n",
       "  </tbody>\n",
       "</table>\n",
       "</div>"
      ],
      "text/plain": [
       "  Unnamed: 0  Student_height  Student_weight\n",
       "0         s1           176.2            85.1\n",
       "1         s2           158.4            90.2\n",
       "2         s3           167.6            76.8\n",
       "3         s4           156.2            80.4\n",
       "4         s5           161.4            78.9"
      ]
     },
     "metadata": {},
     "output_type": "display_data"
    },
    {
     "data": {
      "text/html": [
       "<div>\n",
       "<style scoped>\n",
       "    .dataframe tbody tr th:only-of-type {\n",
       "        vertical-align: middle;\n",
       "    }\n",
       "\n",
       "    .dataframe tbody tr th {\n",
       "        vertical-align: top;\n",
       "    }\n",
       "\n",
       "    .dataframe thead th {\n",
       "        text-align: right;\n",
       "    }\n",
       "</style>\n",
       "<table border=\"1\" class=\"dataframe\">\n",
       "  <thead>\n",
       "    <tr style=\"text-align: right;\">\n",
       "      <th></th>\n",
       "      <th>Student_height</th>\n",
       "      <th>Student_weight</th>\n",
       "    </tr>\n",
       "  </thead>\n",
       "  <tbody>\n",
       "    <tr>\n",
       "      <th>s1</th>\n",
       "      <td>176.2</td>\n",
       "      <td>85.1</td>\n",
       "    </tr>\n",
       "    <tr>\n",
       "      <th>s2</th>\n",
       "      <td>158.4</td>\n",
       "      <td>90.2</td>\n",
       "    </tr>\n",
       "    <tr>\n",
       "      <th>s3</th>\n",
       "      <td>167.6</td>\n",
       "      <td>76.8</td>\n",
       "    </tr>\n",
       "    <tr>\n",
       "      <th>s4</th>\n",
       "      <td>156.2</td>\n",
       "      <td>80.4</td>\n",
       "    </tr>\n",
       "    <tr>\n",
       "      <th>s5</th>\n",
       "      <td>161.4</td>\n",
       "      <td>78.9</td>\n",
       "    </tr>\n",
       "  </tbody>\n",
       "</table>\n",
       "</div>"
      ],
      "text/plain": [
       "    Student_height  Student_weight\n",
       "s1           176.2            85.1\n",
       "s2           158.4            90.2\n",
       "s3           167.6            76.8\n",
       "s4           156.2            80.4\n",
       "s5           161.4            78.9"
      ]
     },
     "metadata": {},
     "output_type": "display_data"
    },
    {
     "data": {
      "text/html": [
       "<div>\n",
       "<style scoped>\n",
       "    .dataframe tbody tr th:only-of-type {\n",
       "        vertical-align: middle;\n",
       "    }\n",
       "\n",
       "    .dataframe tbody tr th {\n",
       "        vertical-align: top;\n",
       "    }\n",
       "\n",
       "    .dataframe thead th {\n",
       "        text-align: right;\n",
       "    }\n",
       "</style>\n",
       "<table border=\"1\" class=\"dataframe\">\n",
       "  <thead>\n",
       "    <tr style=\"text-align: right;\">\n",
       "      <th></th>\n",
       "      <th>Student_height</th>\n",
       "      <th>Student_weight</th>\n",
       "    </tr>\n",
       "  </thead>\n",
       "  <tbody>\n",
       "    <tr>\n",
       "      <th>0</th>\n",
       "      <td>145.587022</td>\n",
       "      <td>170.817233</td>\n",
       "    </tr>\n",
       "    <tr>\n",
       "      <th>1</th>\n",
       "      <td>139.202274</td>\n",
       "      <td>198.000377</td>\n",
       "    </tr>\n",
       "    <tr>\n",
       "      <th>2</th>\n",
       "      <td>190.524587</td>\n",
       "      <td>195.060090</td>\n",
       "    </tr>\n",
       "    <tr>\n",
       "      <th>3</th>\n",
       "      <td>147.369795</td>\n",
       "      <td>140.804753</td>\n",
       "    </tr>\n",
       "    <tr>\n",
       "      <th>4</th>\n",
       "      <td>167.137873</td>\n",
       "      <td>165.062908</td>\n",
       "    </tr>\n",
       "  </tbody>\n",
       "</table>\n",
       "</div>"
      ],
      "text/plain": [
       "   Student_height  Student_weight\n",
       "0      145.587022      170.817233\n",
       "1      139.202274      198.000377\n",
       "2      190.524587      195.060090\n",
       "3      147.369795      140.804753\n",
       "4      167.137873      165.062908"
      ]
     },
     "metadata": {},
     "output_type": "display_data"
    },
    {
     "data": {
      "text/html": [
       "<div>\n",
       "<style scoped>\n",
       "    .dataframe tbody tr th:only-of-type {\n",
       "        vertical-align: middle;\n",
       "    }\n",
       "\n",
       "    .dataframe tbody tr th {\n",
       "        vertical-align: top;\n",
       "    }\n",
       "\n",
       "    .dataframe thead th {\n",
       "        text-align: right;\n",
       "    }\n",
       "</style>\n",
       "<table border=\"1\" class=\"dataframe\">\n",
       "  <thead>\n",
       "    <tr style=\"text-align: right;\">\n",
       "      <th></th>\n",
       "      <th>0</th>\n",
       "      <th>1</th>\n",
       "    </tr>\n",
       "  </thead>\n",
       "  <tbody>\n",
       "    <tr>\n",
       "      <th>0</th>\n",
       "      <td>Student_height</td>\n",
       "      <td>Student_weight</td>\n",
       "    </tr>\n",
       "    <tr>\n",
       "      <th>1</th>\n",
       "      <td>145.58702234733374</td>\n",
       "      <td>170.81723251937595</td>\n",
       "    </tr>\n",
       "    <tr>\n",
       "      <th>2</th>\n",
       "      <td>139.2022742415592</td>\n",
       "      <td>198.00037694488668</td>\n",
       "    </tr>\n",
       "    <tr>\n",
       "      <th>3</th>\n",
       "      <td>190.52458664489595</td>\n",
       "      <td>195.0600895695741</td>\n",
       "    </tr>\n",
       "    <tr>\n",
       "      <th>4</th>\n",
       "      <td>147.3697954036125</td>\n",
       "      <td>140.80475319939748</td>\n",
       "    </tr>\n",
       "    <tr>\n",
       "      <th>5</th>\n",
       "      <td>167.13787255271964</td>\n",
       "      <td>165.06290825317427</td>\n",
       "    </tr>\n",
       "  </tbody>\n",
       "</table>\n",
       "</div>"
      ],
      "text/plain": [
       "                    0                   1\n",
       "0      Student_height      Student_weight\n",
       "1  145.58702234733374  170.81723251937595\n",
       "2   139.2022742415592  198.00037694488668\n",
       "3  190.52458664489595   195.0600895695741\n",
       "4   147.3697954036125  140.80475319939748\n",
       "5  167.13787255271964  165.06290825317427"
      ]
     },
     "metadata": {},
     "output_type": "display_data"
    },
    {
     "data": {
      "text/html": [
       "<div>\n",
       "<style scoped>\n",
       "    .dataframe tbody tr th:only-of-type {\n",
       "        vertical-align: middle;\n",
       "    }\n",
       "\n",
       "    .dataframe tbody tr th {\n",
       "        vertical-align: top;\n",
       "    }\n",
       "\n",
       "    .dataframe thead th {\n",
       "        text-align: right;\n",
       "    }\n",
       "</style>\n",
       "<table border=\"1\" class=\"dataframe\">\n",
       "  <thead>\n",
       "    <tr style=\"text-align: right;\">\n",
       "      <th></th>\n",
       "      <th>0</th>\n",
       "      <th>1</th>\n",
       "    </tr>\n",
       "  </thead>\n",
       "  <tbody>\n",
       "    <tr>\n",
       "      <th>0</th>\n",
       "      <td>139.202274</td>\n",
       "      <td>198.000377</td>\n",
       "    </tr>\n",
       "    <tr>\n",
       "      <th>1</th>\n",
       "      <td>190.524587</td>\n",
       "      <td>195.060090</td>\n",
       "    </tr>\n",
       "    <tr>\n",
       "      <th>2</th>\n",
       "      <td>147.369795</td>\n",
       "      <td>140.804753</td>\n",
       "    </tr>\n",
       "    <tr>\n",
       "      <th>3</th>\n",
       "      <td>167.137873</td>\n",
       "      <td>165.062908</td>\n",
       "    </tr>\n",
       "  </tbody>\n",
       "</table>\n",
       "</div>"
      ],
      "text/plain": [
       "            0           1\n",
       "0  139.202274  198.000377\n",
       "1  190.524587  195.060090\n",
       "2  147.369795  140.804753\n",
       "3  167.137873  165.062908"
      ]
     },
     "metadata": {},
     "output_type": "display_data"
    }
   ],
   "source": [
    "#Write your code here\n",
    "import pandas as pd\n",
    "import numpy as np\n",
    "import random\n",
    "\n",
    "#Task 1\n",
    "hdata = [176.2,158.4,167.6,156.2,161.4]\n",
    "heights_A = pd.Series(hdata,index=['s1','s2','s3','s4','s5'])\n",
    "\n",
    "wdata = [85.1,90.2,76.8,80.4,78.9]\n",
    "weights_A = pd.Series(wdata,index=['s1','s2','s3','s4','s5'])\n",
    "\n",
    "data = {'Student_height':heights_A,'Student_weight':weights_A}\n",
    "df_A = pd.DataFrame(data)\n",
    "df_A.to_csv('classA.csv')\n",
    "\n",
    "#Task 2\n",
    "df_A2 = pd.read_csv('classA.csv')\n",
    "display(df_A2)\n",
    "\n",
    "#Task 3\n",
    "df_A3 = pd.read_csv('classA.csv',index_col=0)\n",
    "display(df_A3)\n",
    "\n",
    "#Task 4\n",
    "random.seed(100)\n",
    "heights_B = pd.Series(np.random.normal(170.0,25.0,5),index=['s1','s2','s3','s4','s5'])\n",
    "random.seed(100)\n",
    "weights_B = pd.Series(np.random.normal(170.0,12.0,5),index=['s1','s2','s3','s4','s5'])\n",
    "data = {'Student_height':heights_B,'Student_weight':weights_B}\n",
    "df_B = pd.DataFrame(data)\n",
    "df_B.to_csv('classB.csv',index=False)\n",
    "\n",
    "#Task 5\n",
    "df_B2 = pd.read_csv('classB.csv')\n",
    "display(df_B2)\n",
    "\n",
    "#Task 6\n",
    "df_B3 = pd.read_csv('classB.csv',header=None)\n",
    "display(df_B3)\n",
    "\n",
    "#Task 7\n",
    "df_B4 = pd.read_csv('classB.csv',header=None,skiprows=2)\n",
    "display(df_B4)"
   ]
  },
  {
   "cell_type": "code",
   "execution_count": 8,
   "metadata": {
    "scrolled": true
   },
   "outputs": [
    {
     "data": {
      "text/html": [
       "<style  type=\"text/css\" >\n",
       "</style><table id=\"T_a411a643_57db_11eb_8952_3024a9a4d4e4\" ><thead>    <tr>        <th class=\"blank level0\" ></th>        <th class=\"col_heading level0 col0\" >0</th>        <th class=\"col_heading level0 col1\" >1</th>    </tr></thead><tbody>\n",
       "                <tr>\n",
       "                        <th id=\"T_a411a643_57db_11eb_8952_3024a9a4d4e4level0_row0\" class=\"row_heading level0 row0\" >0</th>\n",
       "                        <td id=\"T_a411a643_57db_11eb_8952_3024a9a4d4e4row0_col0\" class=\"data row0 col0\" >139.202274</td>\n",
       "                        <td id=\"T_a411a643_57db_11eb_8952_3024a9a4d4e4row0_col1\" class=\"data row0 col1\" >198.000377</td>\n",
       "            </tr>\n",
       "            <tr>\n",
       "                        <th id=\"T_a411a643_57db_11eb_8952_3024a9a4d4e4level0_row1\" class=\"row_heading level0 row1\" >1</th>\n",
       "                        <td id=\"T_a411a643_57db_11eb_8952_3024a9a4d4e4row1_col0\" class=\"data row1 col0\" >190.524587</td>\n",
       "                        <td id=\"T_a411a643_57db_11eb_8952_3024a9a4d4e4row1_col1\" class=\"data row1 col1\" >195.060090</td>\n",
       "            </tr>\n",
       "            <tr>\n",
       "                        <th id=\"T_a411a643_57db_11eb_8952_3024a9a4d4e4level0_row2\" class=\"row_heading level0 row2\" >2</th>\n",
       "                        <td id=\"T_a411a643_57db_11eb_8952_3024a9a4d4e4row2_col0\" class=\"data row2 col0\" >147.369795</td>\n",
       "                        <td id=\"T_a411a643_57db_11eb_8952_3024a9a4d4e4row2_col1\" class=\"data row2 col1\" >140.804753</td>\n",
       "            </tr>\n",
       "            <tr>\n",
       "                        <th id=\"T_a411a643_57db_11eb_8952_3024a9a4d4e4level0_row3\" class=\"row_heading level0 row3\" >3</th>\n",
       "                        <td id=\"T_a411a643_57db_11eb_8952_3024a9a4d4e4row3_col0\" class=\"data row3 col0\" >167.137873</td>\n",
       "                        <td id=\"T_a411a643_57db_11eb_8952_3024a9a4d4e4row3_col1\" class=\"data row3 col1\" >165.062908</td>\n",
       "            </tr>\n",
       "    </tbody></table>"
      ],
      "text/plain": [
       "<pandas.io.formats.style.Styler at 0x16da8191cd0>"
      ]
     },
     "execution_count": 8,
     "metadata": {},
     "output_type": "execute_result"
    }
   ],
   "source": []
  },
  {
   "cell_type": "code",
   "execution_count": 45,
   "metadata": {},
   "outputs": [],
   "source": [
    "pd.set_option(\"display.max_rows\", None, \"display.max_columns\", None)"
   ]
  },
  {
   "cell_type": "code",
   "execution_count": 46,
   "metadata": {},
   "outputs": [
    {
     "name": "stdout",
     "output_type": "stream",
     "text": [
      "    Student_height  Student_weight\n",
      "s1      153.104729      136.084907\n",
      "s2      157.781332      182.091162\n",
      "s3      154.296061      140.144441\n",
      "s4      172.250822      190.636515\n",
      "s5      154.566118      174.292389\n"
     ]
    }
   ],
   "source": [
    "print(df_B)"
   ]
  },
  {
   "cell_type": "code",
   "execution_count": 47,
   "metadata": {},
   "outputs": [
    {
     "data": {
      "text/html": [
       "<div>\n",
       "<style scoped>\n",
       "    .dataframe tbody tr th:only-of-type {\n",
       "        vertical-align: middle;\n",
       "    }\n",
       "\n",
       "    .dataframe tbody tr th {\n",
       "        vertical-align: top;\n",
       "    }\n",
       "\n",
       "    .dataframe thead th {\n",
       "        text-align: right;\n",
       "    }\n",
       "</style>\n",
       "<table border=\"1\" class=\"dataframe\">\n",
       "  <thead>\n",
       "    <tr style=\"text-align: right;\">\n",
       "      <th></th>\n",
       "      <th>Student_height</th>\n",
       "      <th>Student_weight</th>\n",
       "    </tr>\n",
       "  </thead>\n",
       "  <tbody>\n",
       "    <tr>\n",
       "      <th>s1</th>\n",
       "      <td>153.104729</td>\n",
       "      <td>136.084907</td>\n",
       "    </tr>\n",
       "    <tr>\n",
       "      <th>s2</th>\n",
       "      <td>157.781332</td>\n",
       "      <td>182.091162</td>\n",
       "    </tr>\n",
       "    <tr>\n",
       "      <th>s3</th>\n",
       "      <td>154.296061</td>\n",
       "      <td>140.144441</td>\n",
       "    </tr>\n",
       "    <tr>\n",
       "      <th>s4</th>\n",
       "      <td>172.250822</td>\n",
       "      <td>190.636515</td>\n",
       "    </tr>\n",
       "    <tr>\n",
       "      <th>s5</th>\n",
       "      <td>154.566118</td>\n",
       "      <td>174.292389</td>\n",
       "    </tr>\n",
       "  </tbody>\n",
       "</table>\n",
       "</div>"
      ],
      "text/plain": [
       "    Student_height  Student_weight\n",
       "s1      153.104729      136.084907\n",
       "s2      157.781332      182.091162\n",
       "s3      154.296061      140.144441\n",
       "s4      172.250822      190.636515\n",
       "s5      154.566118      174.292389"
      ]
     },
     "execution_count": 47,
     "metadata": {},
     "output_type": "execute_result"
    }
   ],
   "source": [
    "df_B"
   ]
  },
  {
   "cell_type": "code",
   "execution_count": 40,
   "metadata": {},
   "outputs": [
    {
     "name": "stdout",
     "output_type": "stream",
     "text": [
      "(5,)\n",
      "float64\n",
      "(5, 2)\n",
      "172.37417741633146\n",
      "(5, 2)\n"
     ]
    },
    {
     "name": "stderr",
     "output_type": "stream",
     "text": [
      "<ipython-input-40-fa71bce63a94>:37: FutureWarning: The Panel class is removed from pandas. Accessing it from the top-level namespace will also be removed in the next version\n",
      "  p = pd.Panel()\n"
     ]
    }
   ],
   "source": [
    "import pandas as pd\n",
    "import numpy as np\n",
    "\n",
    "heights_A =  pd.Series([176.2, 158.4, 167.6, 156.2, 161.4])\n",
    "heights_A.index = ['s1', 's2', 's3', 's4','s5']\n",
    "print(heights_A.shape)\n",
    "\n",
    "weights_A = pd.Series([85.1, 90.2, 76.8, 80.4 , 78.9])\n",
    "weights_A.index = ['s1', 's2', 's3', 's4','s5']\n",
    "print(weights_A.dtype)\n",
    "\n",
    "df_A = pd.DataFrame()\n",
    "df_A['Student_height'] = heights_A\n",
    "df_A['Student_weight'] = weights_A\n",
    "print(df_A.shape)\n",
    "\n",
    "\n",
    "my_mean = 170.0\n",
    "my_std = 25\n",
    "np.random.seed(100)\n",
    "heights_B =  pd.Series(np.random.normal(loc=my_mean, scale=my_std, size=5))\n",
    "heights_B.index = ['s1', 's2', 's3', 's4','s5']\n",
    "\n",
    "\n",
    "my_mean1 = 75.0\n",
    "my_std1 = 12\n",
    "weights_B  = pd.Series(np.random.normal(loc=my_mean, scale=my_std, size=5))\n",
    "weights_B.index = ['s1', 's2', 's3', 's4','s5']\n",
    "print(heights_B.mean())\n",
    "\n",
    "df_B = pd.DataFrame()\n",
    "df_B['Student_height'] = heights_B\n",
    "df_B['Student_weight'] = weights_B\n",
    "print(df_B.shape)\n",
    "\n",
    "\n",
    "p = pd.Panel()\n",
    "data = {'ClassA' : df_A, \n",
    "   'ClassB' : df_B}\n"
   ]
  },
  {
   "cell_type": "code",
   "execution_count": 45,
   "metadata": {},
   "outputs": [
    {
     "name": "stdout",
     "output_type": "stream",
     "text": [
      "Student_height Student_weight "
     ]
    }
   ],
   "source": [
    "for c in df_B.columns:\n",
    "    print(c)"
   ]
  },
  {
   "cell_type": "code",
   "execution_count": null,
   "metadata": {},
   "outputs": [],
   "source": []
  }
 ],
 "metadata": {
  "kernelspec": {
   "display_name": "Python 3",
   "language": "python",
   "name": "python3"
  },
  "language_info": {
   "codemirror_mode": {
    "name": "ipython",
    "version": 3
   },
   "file_extension": ".py",
   "mimetype": "text/x-python",
   "name": "python",
   "nbconvert_exporter": "python",
   "pygments_lexer": "ipython3",
   "version": "3.8.5"
  }
 },
 "nbformat": 4,
 "nbformat_minor": 4
}
