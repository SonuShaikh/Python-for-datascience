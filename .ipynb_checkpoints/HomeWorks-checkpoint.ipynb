{
 "cells": [
  {
   "cell_type": "code",
   "execution_count": 95,
   "metadata": {},
   "outputs": [
    {
     "data": {
      "text/plain": [
       "68.44"
      ]
     },
     "execution_count": 95,
     "metadata": {},
     "output_type": "execute_result"
    }
   ],
   "source": [
    "#Home work section 1 : excersie Mean deviation 68\n",
    "import numpy as np\n",
    "from numpy.random import randn \n",
    "N = 100000\n",
    "counter = 0\n",
    "\n",
    "for i in randn(N):\n",
    "    if (i > -1 and i < 1):\n",
    "        counter += 1\n",
    "        \n",
    "(counter/N) * 100"
   ]
  },
  {
   "cell_type": "code",
   "execution_count": 96,
   "metadata": {},
   "outputs": [],
   "source": [
    "#Home work section 3 : Finacial Statment Analysis\n",
    "#DataSet\n",
    "revenue = [14574.49, 7606.46, 8611.41, 9175.41, 8058.65, 8105.44, 11496.28, 9766.09, 10305.32, 14379.96, 10713.97, 15433.50]\n",
    "expenses = [12051.82, 5695.07, 12319.20, 12089.72, 8658.57, 840.20, 3285.73, 5821.12, 6976.93, 16618.61, 10054.37, 3803.96]"
   ]
  },
  {
   "cell_type": "code",
   "execution_count": 107,
   "metadata": {},
   "outputs": [],
   "source": [
    "#Calculatin Profite (revenue - expenses)\n",
    "profit = list()\n",
    "\n",
    "for i in range(len(revenue)):\n",
    "    profit.append(revenue[i] - expenses[i])\n",
    "profit"
   ]
  },
  {
   "cell_type": "code",
   "execution_count": 108,
   "metadata": {},
   "outputs": [],
   "source": [
    "#Calculate the taxes i.e 30% of revenue\n",
    "'''\n",
    "tax = list()\n",
    "for i in profit:\n",
    "    tax.append(round(i*0.3,2))\n",
    "'''   \n",
    "#easiest way to calculate texes\n",
    "\n",
    "tax = [round(i * 0.3,2) for i in profit]\n",
    "tax"
   ]
  },
  {
   "cell_type": "code",
   "execution_count": 112,
   "metadata": {},
   "outputs": [],
   "source": [
    "#profit remainig after tax i.e (profit-tax)\n",
    "profit_after_tax = list()\n",
    "for i in range(len(profit)):\n",
    "    profit_after_tax.append(profit[i] - tax[i])\n",
    "profit_after_tax"
   ]
  },
  {
   "cell_type": "code",
   "execution_count": 118,
   "metadata": {},
   "outputs": [
    {
     "data": {
      "text/plain": [
       "[12.12,\n",
       " 17.59,\n",
       " -30.14,\n",
       " -22.23,\n",
       " -5.21,\n",
       " 62.74,\n",
       " 49.99,\n",
       " 28.28,\n",
       " 22.61,\n",
       " -10.9,\n",
       " 4.31,\n",
       " 52.75]"
      ]
     },
     "execution_count": 118,
     "metadata": {},
     "output_type": "execute_result"
    }
   ],
   "source": [
    "#Profter after margin (profit_after_tax - revenue)\n",
    "profit_margin = list()\n",
    "for i in range(len(profit_after_tax)):\n",
    "    profit_margin.append(profit_after_tax[i] / revenue[i])\n",
    "\n",
    "profit_margin = [(round(i * 100,2)) for i in profit_margin]\n",
    "profit_margin"
   ]
  },
  {
   "cell_type": "code",
   "execution_count": 121,
   "metadata": {},
   "outputs": [
    {
     "data": {
      "text/plain": [
       "1750.6816666666666"
      ]
     },
     "execution_count": 121,
     "metadata": {},
     "output_type": "execute_result"
    }
   ],
   "source": [
    "#profit after tax mean\n",
    "profit_mean = sum(profit_after_tax)/len(profit_after_tax)\n",
    "\n",
    "profit_mean"
   ]
  },
  {
   "cell_type": "code",
   "execution_count": 129,
   "metadata": {},
   "outputs": [
    {
     "data": {
      "text/plain": [
       "[True, False, False, False, False, True, True, True, True, False, False, True]"
      ]
     },
     "execution_count": 129,
     "metadata": {},
     "output_type": "execute_result"
    }
   ],
   "source": [
    "#Best Months (Greater than mean)\n",
    "good_month = list([])\n",
    "for i in range(len(profit)):\n",
    "    good_month.append(profit_after_tax[i] > profit_mean)\n",
    "good_month"
   ]
  },
  {
   "cell_type": "code",
   "execution_count": 131,
   "metadata": {},
   "outputs": [
    {
     "data": {
      "text/plain": [
       "[False, True, True, True, True, False, False, False, False, True, True, False]"
      ]
     },
     "execution_count": 131,
     "metadata": {},
     "output_type": "execute_result"
    }
   ],
   "source": [
    "#bad Months (Greater than mean)\n",
    "bad_month = list([])\n",
    "for i in range(len(profit)):\n",
    "    bad_month.append(profit_after_tax[i] < profit_mean)\n",
    "bad_month"
   ]
  },
  {
   "cell_type": "code",
   "execution_count": 149,
   "metadata": {},
   "outputs": [
    {
     "name": "stdout",
     "output_type": "stream",
     "text": [
      "[False, False, False, False, False, False, False, False, False, False, False, True]\n"
     ]
    }
   ],
   "source": [
    "#Best month\n",
    "best_month = []\n",
    "for i in range(len(profit)):\n",
    "    best_month.append(profit_after_tax[i] == max(profit_after_tax))\n",
    "print(best_month)"
   ]
  },
  {
   "cell_type": "code",
   "execution_count": 150,
   "metadata": {},
   "outputs": [
    {
     "name": "stdout",
     "output_type": "stream",
     "text": [
      "[False, False, True, False, False, False, False, False, False, False, False, False]\n"
     ]
    }
   ],
   "source": [
    "#worst month\n",
    "\n",
    "worth_month = []\n",
    "for i in range(len(profit)):\n",
    "    worth_month.append(profit_after_tax[i] == min(profit_after_tax))\n",
    "print(worth_month)"
   ]
  },
  {
   "cell_type": "code",
   "execution_count": null,
   "metadata": {},
   "outputs": [],
   "source": []
  }
 ],
 "metadata": {
  "kernelspec": {
   "display_name": "Python 3",
   "language": "python",
   "name": "python3"
  },
  "language_info": {
   "codemirror_mode": {
    "name": "ipython",
    "version": 3
   },
   "file_extension": ".py",
   "mimetype": "text/x-python",
   "name": "python",
   "nbconvert_exporter": "python",
   "pygments_lexer": "ipython3",
   "version": "3.8.3"
  }
 },
 "nbformat": 4,
 "nbformat_minor": 4
}
