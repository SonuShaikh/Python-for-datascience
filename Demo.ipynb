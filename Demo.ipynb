{
 "cells": [
  {
   "cell_type": "code",
   "execution_count": null,
   "metadata": {},
   "outputs": [],
   "source": [
    "import sys\n",
    "import os\n",
    "import io\n",
    "import re\n",
    " \n",
    "zenPython = '''\n",
    "The Zen of Python, by Tim Peters\n",
    "\n",
    "Beautiful is better than ugly.\n",
    "Explicit is better than implicit.\n",
    "Simple is better than complex.\n",
    "Complex is better than complicated.\n",
    "Flat is better than nested.\n",
    "Sparse is better than dense.\n",
    "Readability counts.\n",
    "Special cases aren't special enough to break the rules.\n",
    "Although practicality beats purity.\n",
    "Errors should never pass silently.\n",
    "Unless explicitly silenced.\n",
    "In the face of ambiguity, refuse the temptation to guess.\n",
    "There should be one-- and preferably only one --obvious way to do it.\n",
    "Although that way may not be obvious at first unless you're Dutch.\n",
    "Now is better than never.\n",
    "Although never is often better than *right* now.\n",
    "If the implementation is hard to explain, it's a bad idea.\n",
    "If the implementation is easy to explain, it may be a good idea.\n",
    "Namespaces are one honking great idea -- let's do more of those!\n",
    "'''\n",
    "fp = io.StringIO(zenPython)\n",
    "zenlines = fp.readlines()\n",
    "#zenlines = [ line.strip() for line in zenlines ]\n",
    "\n",
    "#Add implementation here to set and match patterns\n",
    "pattern = r'-%s+[\\w]+%s-'\n",
    "\n",
    "for line in zenlines:\n",
    "    if re.findall(pattern,line):\n",
    "        print(re.findall(pattern,line))\n",
    "    else:\n",
    "        print('not match')\n",
    "        "
   ]
  },
  {
   "cell_type": "code",
   "execution_count": 3,
   "metadata": {},
   "outputs": [
    {
     "name": "stdout",
     "output_type": "stream",
     "text": [
      "hacker\n"
     ]
    }
   ],
   "source": [
    "from copy import copy\n",
    "class sample:\n",
    "    pass\n",
    "\n",
    "a = sample()\n",
    "a.lst = [1,2,3]\n",
    "a.str = 'hacker'\n",
    "b = copy(a)\n",
    "\n",
    "a.lst.append('earth')\n",
    "a.str = 'Python'\n",
    "print(b.str)"
   ]
  },
  {
   "cell_type": "code",
   "execution_count": 50,
   "metadata": {},
   "outputs": [
    {
     "name": "stdout",
     "output_type": "stream",
     "text": [
      "(17, 21)\n",
      "sonu\n",
      "(114, 118)\n",
      "sonu\n"
     ]
    }
   ],
   "source": [
    "text = 'Hello my name is sonu shaikh and I lives in-- pune and works in TCS IT industries. Do you have any question? thanks sonu'\n",
    "match = re.search('sonu',text)\n",
    "match.group()\n",
    "matches = re.findall('sonu',text)\n",
    "matches\n",
    "\n",
    "for match in re.finditer('sonu',text):\n",
    "    print(match.span())\n",
    "    print(match.group())"
   ]
  },
  {
   "cell_type": "code",
   "execution_count": 59,
   "metadata": {},
   "outputs": [
    {
     "data": {
      "text/plain": [
       "<re.Match object; span=(23, 35), match='999-888-3456'>"
      ]
     },
     "execution_count": 59,
     "metadata": {},
     "output_type": "execute_result"
    }
   ],
   "source": [
    "text = 'hi, my phone number is 999-888-3456'\n",
    "pattern = r'\\d\\d\\d-\\d\\d\\d-\\d\\d\\d\\d'\n",
    "re.search(pattern,text)\n",
    "\n",
    "pattern = r'\\d{3}-\\d{3}-\\d{4}'\n",
    "re.search(pattern,text)"
   ]
  },
  {
   "cell_type": "code",
   "execution_count": 65,
   "metadata": {},
   "outputs": [
    {
     "data": {
      "text/plain": [
       "'3456'"
      ]
     },
     "execution_count": 65,
     "metadata": {},
     "output_type": "execute_result"
    }
   ],
   "source": [
    "#Compile\n",
    "phone_patterns = re.compile(r'(\\d{3})-(\\d{3})-(\\d{4})')\n",
    "results = re.search(phone_patterns,text)\n",
    "results.group()\n",
    "results.group(1)\n",
    "results.group(3)"
   ]
  },
  {
   "cell_type": "code",
   "execution_count": 68,
   "metadata": {},
   "outputs": [
    {
     "data": {
      "text/plain": [
       "<re.Match object; span=(7, 10), match='dog'>"
      ]
     },
     "execution_count": 68,
     "metadata": {},
     "output_type": "execute_result"
    }
   ],
   "source": [
    "re.search('cat|dog','I love dog. do you?')"
   ]
  },
  {
   "cell_type": "code",
   "execution_count": 77,
   "metadata": {},
   "outputs": [
    {
     "data": {
      "text/plain": [
       "['e cat', 'e hat', 'splat']"
      ]
     },
     "execution_count": 77,
     "metadata": {},
     "output_type": "execute_result"
    }
   ],
   "source": [
    "re.findall('...at','the cat in the hat went splat')"
   ]
  },
  {
   "cell_type": "code",
   "execution_count": 3,
   "metadata": {},
   "outputs": [
    {
     "data": {
      "text/plain": [
       "['Hi everything ', ' looks so good ', ' dont worry']"
      ]
     },
     "execution_count": 3,
     "metadata": {},
     "output_type": "execute_result"
    }
   ],
   "source": [
    "#excludes the '-' charecters\n",
    "re.findall('[^-]+','Hi everything - looks so good - dont worry')"
   ]
  },
  {
   "cell_type": "code",
   "execution_count": 6,
   "metadata": {},
   "outputs": [
    {
     "data": {
      "text/plain": [
       "'This is a string with a punctuations marks Can we get rid of it'"
      ]
     },
     "execution_count": 6,
     "metadata": {},
     "output_type": "execute_result"
    }
   ],
   "source": [
    "#Ger rid of punctuations marks\n",
    "clean = re.findall(r'[^,!.? ]+','This is a string, with a ! punctuations marks. Can we get rid of it?')\n",
    "' '.join(clean)"
   ]
  },
  {
   "cell_type": "code",
   "execution_count": 29,
   "metadata": {},
   "outputs": [
    {
     "data": {
      "text/plain": [
       "['- looks good so far but not sure what 3 will happen -']"
      ]
     },
     "execution_count": 29,
     "metadata": {},
     "output_type": "execute_result"
    }
   ],
   "source": [
    "re.findall(r'[-][\\s\\w\\d]+-','Everything -- looks good so far but not sure what 3 will happen -- *tommorow*.')\n",
    "#[^*][\\s\\w\\d]+[^*]"
   ]
  },
  {
   "cell_type": "code",
   "execution_count": 132,
   "metadata": {},
   "outputs": [
    {
     "name": "stdout",
     "output_type": "stream",
     "text": [
      "1\n",
      "sonu g@apple.com\n",
      "Not found\n"
     ]
    }
   ],
   "source": [
    "#!/bin/python3\n",
    "\n",
    "import math\n",
    "import os\n",
    "import random\n",
    "import re\n",
    "import sys\n",
    "\n",
    "def is_gmail(email):\n",
    "    result = re.search('[\\w]+@gmail.com',email)\n",
    "    if result:\n",
    "        return result.group()\n",
    "    #return result.group()\n",
    "\n",
    "if __name__ == '__main__':\n",
    "    N = int(input())\n",
    "\n",
    "    for N_itr in range(N):\n",
    "        firstNameEmailID = input().split()\n",
    "\n",
    "        firstName = firstNameEmailID[0]\n",
    "\n",
    "        emailID = firstNameEmailID[1]\n",
    "        \n",
    "        if(is_gmail(emailID)):\n",
    "            print('Found')\n",
    "        else:\n",
    "            print('Not found')\n",
    "            "
   ]
  },
  {
   "cell_type": "code",
   "execution_count": 135,
   "metadata": {},
   "outputs": [
    {
     "data": {
      "text/plain": [
       "['a', 'b', 'e', 'f', 'z']"
      ]
     },
     "execution_count": 135,
     "metadata": {},
     "output_type": "execute_result"
    }
   ],
   "source": [
    "lst = ['b','a','e','z','f']\n",
    "lst.sort()\n",
    "lst"
   ]
  },
  {
   "cell_type": "code",
   "execution_count": 83,
   "metadata": {},
   "outputs": [
    {
     "name": "stdout",
     "output_type": "stream",
     "text": [
      "(24, 28)\n",
      "sonu\n",
      "sonu\n",
      "sonu\n"
     ]
    }
   ],
   "source": [
    "import re\n",
    "text = 'Hello World! My Name is sonu shaikh.'\n",
    "pattern = 'sonu'\n",
    "match = re.search(pattern,text)\n",
    "print(match.span())\n",
    "print(match.group())\n",
    "re.search('Yo',text)\n",
    "\n",
    "#Multiple Matches\n",
    "text = 'This is first sonu and that is the second sonu'\n",
    "re.search(pattern,text)\n",
    "\n",
    "matches = re.findall('sonu',text)\n",
    "for match in re.finditer(pattern,text):\n",
    "    print(match.group())"
   ]
  },
  {
   "cell_type": "code",
   "execution_count": 90,
   "metadata": {},
   "outputs": [
    {
     "data": {
      "text/plain": [
       "'9623858600'"
      ]
     },
     "execution_count": 90,
     "metadata": {},
     "output_type": "execute_result"
    }
   ],
   "source": [
    "text = 'Hello There here is my phone number 9623858600'\n",
    "pattern = r'\\d\\d\\d\\d\\d\\d\\d\\d\\d\\d'\n",
    "re.search(pattern,text).group()"
   ]
  },
  {
   "cell_type": "code",
   "execution_count": 104,
   "metadata": {},
   "outputs": [
    {
     "data": {
      "text/plain": [
       "'9874'"
      ]
     },
     "execution_count": 104,
     "metadata": {},
     "output_type": "execute_result"
    }
   ],
   "source": [
    "#Quantifires\n",
    "pattern = r'\\d{10}'\n",
    "match = re.search(pattern,text)\n",
    "#match.group()\n",
    "\n",
    "text = 'my phone number is 333-456-9874'\n",
    "pattern = re.compile(r'(\\d{3})-(\\d{3})-(\\d{4})')\n",
    "match = re.search(pattern,text)\n",
    "match.group(3)"
   ]
  },
  {
   "cell_type": "code",
   "execution_count": 114,
   "metadata": {},
   "outputs": [
    {
     "data": {
      "text/plain": [
       "['shaikhshahabaj987@gmail.com', 'shaikhshah@gmail.com']"
      ]
     },
     "execution_count": 114,
     "metadata": {},
     "output_type": "execute_result"
    }
   ],
   "source": [
    "text = 'My email address is shaikhshahabaj987@gmail.com, shaikhshah@gmail.com'\n",
    "pattern = r'\\w+@gmail.com'\n",
    "re.findall(pattern,text)"
   ]
  },
  {
   "cell_type": "code",
   "execution_count": 117,
   "metadata": {
    "scrolled": true
   },
   "outputs": [
    {
     "data": {
      "text/plain": [
       "['shaikhshah@gmail.com']"
      ]
     },
     "execution_count": 117,
     "metadata": {},
     "output_type": "execute_result"
    }
   ],
   "source": [
    "re.findall('\\w+@gmail.com$',text)"
   ]
  },
  {
   "cell_type": "code",
   "execution_count": 125,
   "metadata": {},
   "outputs": [
    {
     "name": "stdout",
     "output_type": "stream",
     "text": [
      "Found\n"
     ]
    }
   ],
   "source": [
    "text = 'sonu@gmail.com'\n",
    "if re.search('[\\w]+@gmail.com',text):\n",
    "    print('Found')\n",
    "else:\n",
    "    print('not found')"
   ]
  },
  {
   "cell_type": "code",
   "execution_count": 61,
   "metadata": {},
   "outputs": [],
   "source": [
    "def re():\n",
    "    Array = list()\n",
    "    return []"
   ]
  },
  {
   "cell_type": "code",
   "execution_count": 47,
   "metadata": {},
   "outputs": [
    {
     "name": "stdout",
     "output_type": "stream",
     "text": [
      "8.0\n"
     ]
    }
   ],
   "source": [
    "import math\n",
    "math.sqrt(4)\n",
    "print(4/0.5)"
   ]
  },
  {
   "cell_type": "code",
   "execution_count": 56,
   "metadata": {},
   "outputs": [
    {
     "data": {
      "text/plain": [
       "True"
      ]
     },
     "execution_count": 56,
     "metadata": {},
     "output_type": "execute_result"
    }
   ],
   "source": [
    "math.sqrt(100).is_integer()"
   ]
  },
  {
   "cell_type": "code",
   "execution_count": 37,
   "metadata": {},
   "outputs": [
    {
     "data": {
      "text/plain": [
       "False"
      ]
     },
     "execution_count": 37,
     "metadata": {},
     "output_type": "execute_result"
    }
   ],
   "source": [
    "def a(n):\n",
    "    if n % 2 == 0:\n",
    "        return False\n",
    "    return True\n",
    "a(8)"
   ]
  },
  {
   "cell_type": "code",
   "execution_count": 38,
   "metadata": {},
   "outputs": [
    {
     "name": "stdout",
     "output_type": "stream",
     "text": [
      "1\n",
      "3\n",
      "Prime\n"
     ]
    }
   ],
   "source": [
    "def isprime(num):\n",
    "    if num <= 1:\n",
    "        return False\n",
    "\n",
    "    for i in range(2,num):\n",
    "        if num % i == 0:\n",
    "            return False\n",
    "    return True\n",
    "\n",
    "number_of_cases = int(input())\n",
    "for i in range(number_of_cases):\n",
    "    num = int(input())\n",
    "\n",
    "    if isprime(num):\n",
    "        print('Prime')\n",
    "    else:\n",
    "        print('Not prime')"
   ]
  },
  {
   "cell_type": "code",
   "execution_count": 8,
   "metadata": {},
   "outputs": [],
   "source": [
    "n = 3\n",
    "for i in range(2,int(n/2)+1):\n",
    "    print(i)"
   ]
  },
  {
   "cell_type": "code",
   "execution_count": 111,
   "metadata": {},
   "outputs": [
    {
     "name": "stdout",
     "output_type": "stream",
     "text": [
      "Array is sorted in 3 swaps.\n",
      "First Element: 1\n",
      "Last Element: 3\n"
     ]
    }
   ],
   "source": [
    "a = [3,2,1]\n",
    "arr_len = len(a)\n",
    "numOfSwaps = 0\n",
    "for i in range(arr_len):\n",
    "    for j in range(arr_len - 1):\n",
    "        if a[j] > a[j+1]:\n",
    "            a[j] , a[j + 1] = a[j+1] , a[j]\n",
    "            numOfSwaps += 1\n",
    "    if numOfSwaps == 0:\n",
    "        break\n",
    "\n",
    "print(\"Array is sorted in {} swaps.\".format(numberOfSwaps))\n",
    "print(\"First Element: {}\".format(a[0]))\n",
    "print(\"Last Element: {}\".format(a[len(a) - 1]))"
   ]
  },
  {
   "cell_type": "code",
   "execution_count": 109,
   "metadata": {},
   "outputs": [],
   "source": [
    "#a = [9,8,7,6,5,4,3,2,1,0]\n",
    "a = [3,2,1]"
   ]
  },
  {
   "cell_type": "code",
   "execution_count": 110,
   "metadata": {},
   "outputs": [
    {
     "name": "stdout",
     "output_type": "stream",
     "text": [
      "Sorted in  0 swap\n"
     ]
    }
   ],
   "source": [
    "l = len(a)\n",
    "counter = 0\n",
    "for i in range(0,l):\n",
    "    for j in range(l-1):\n",
    "        if a[j] > a[j+1]:\n",
    "            a[j],a[j+1] = a[j+1],a[j]\n",
    "            \n",
    "    if counter == 0:\n",
    "        break\n",
    "\n",
    "print('Sorted in ',counter,'swap')"
   ]
  },
  {
   "cell_type": "code",
   "execution_count": 84,
   "metadata": {},
   "outputs": [
    {
     "data": {
      "text/plain": [
       "[3, 2, 1]"
      ]
     },
     "execution_count": 84,
     "metadata": {},
     "output_type": "execute_result"
    }
   ],
   "source": [
    "a"
   ]
  },
  {
   "cell_type": "code",
   "execution_count": 63,
   "metadata": {},
   "outputs": [
    {
     "name": "stdout",
     "output_type": "stream",
     "text": [
      "Mon\n",
      "Tue\n",
      "Wed\n"
     ]
    }
   ],
   "source": [
    "class Node:\n",
    "    def __init__(self, dataval=None):\n",
    "        self.dataval = dataval\n",
    "        self.nextval = None\n",
    "\n",
    "class SLinkedList:\n",
    "    def __init__(self):\n",
    "        self.headval = None\n",
    "\n",
    "    def listprint(self):\n",
    "        printval = self.headval\n",
    "        while printval is not None:\n",
    "            print (printval.dataval)\n",
    "            printval = printval.nextval\n",
    "\n",
    "list = SLinkedList()\n",
    "list.headval = Node(\"Mon\")\n",
    "e2 = Node(\"Tue\")\n",
    "e3 = Node(\"Wed\")\n",
    "\n",
    "# Link first Node to second node\n",
    "list.headval.nextval = e2\n",
    "\n",
    "# Link second Node to third node\n",
    "e2.nextval = e3\n",
    "\n",
    "list.listprint()"
   ]
  },
  {
   "cell_type": "code",
   "execution_count": 24,
   "metadata": {},
   "outputs": [],
   "source": [
    "a = [1,2,3,9,7,5,3]"
   ]
  },
  {
   "cell_type": "code",
   "execution_count": 18,
   "metadata": {},
   "outputs": [
    {
     "data": {
      "text/plain": [
       "5"
      ]
     },
     "execution_count": 18,
     "metadata": {},
     "output_type": "execute_result"
    }
   ],
   "source": [
    "max(result)"
   ]
  },
  {
   "cell_type": "code",
   "execution_count": null,
   "metadata": {},
   "outputs": [],
   "source": [
    "max_differ = [max(d) for d in a]"
   ]
  },
  {
   "cell_type": "code",
   "execution_count": 2,
   "metadata": {},
   "outputs": [
    {
     "data": {
      "text/plain": [
       "4"
      ]
     },
     "execution_count": 2,
     "metadata": {},
     "output_type": "execute_result"
    }
   ],
   "source": []
  },
  {
   "cell_type": "code",
   "execution_count": 93,
   "metadata": {},
   "outputs": [],
   "source": [
    "# find the hourclass\n",
    "#Matix\n",
    "M =[[1, 1, 1, 0, 0, 0],\n",
    "[0, 1, 0, 0, 0, 0],\n",
    "[1, 1, 1, 0, 0, 0],\n",
    "[0, 0, 2, 4, 4, 0],\n",
    "[0, 0, 0, 2, 0, 0],\n",
    "[0, 0, 1, 2, 4, 0]]"
   ]
  },
  {
   "cell_type": "code",
   "execution_count": 78,
   "metadata": {},
   "outputs": [],
   "source": [
    "def print_array(ar):\n",
    "    for row in ar:\n",
    "        for column in row:\n",
    "            print(column,end=' ')\n",
    "        print()"
   ]
  },
  {
   "cell_type": "code",
   "execution_count": 83,
   "metadata": {
    "scrolled": true
   },
   "outputs": [
    {
     "name": "stdout",
     "output_type": "stream",
     "text": [
      "1 1 1 0 0 0 \n",
      "0 1 0 0 0 0 \n",
      "1 1 1 0 0 0 \n",
      "0 0 2 4 4 0 \n",
      "0 0 0 2 0 0 \n",
      "0 0 1 2 4 0 \n"
     ]
    }
   ],
   "source": [
    "print_array(M)"
   ]
  },
  {
   "cell_type": "code",
   "execution_count": 104,
   "metadata": {},
   "outputs": [
    {
     "name": "stdout",
     "output_type": "stream",
     "text": [
      "6 Rows and 6 Cols\n",
      "7\n",
      "4\n",
      "2\n",
      "0\n",
      "4\n",
      "8\n",
      "10\n",
      "8\n",
      "3\n",
      "6\n",
      "7\n",
      "6\n",
      "3\n",
      "9\n",
      "19\n",
      "14\n",
      "14\n"
     ]
    }
   ],
   "source": [
    "rows = len(M)\n",
    "cols = len(M[0])\n",
    "print(f'{rows} Rows and {cols} Cols')\n",
    "result = []\n",
    "for i in range(0,4):\n",
    "    for j in range(0,4):\n",
    "        #current_hourglass_sum = M[i][j] + M[i][j+1] + M[i][j+2] + M[i+1][j+1] + M[i+2][j] + M[i+2][j+1]+M[i+2][j+2]\n",
    "        current_hourglass_sum = sum(M[i][j:j+3]) + M[i+1][j+1] + sum(M[i+2][j:j+3])\n",
    "        print(current_hourglass_sum)\n",
    "        result.append(current_hourglass_sum)\n",
    "        \n",
    "print(current_hourglass_sum)\n",
    "    #print()"
   ]
  },
  {
   "cell_type": "code",
   "execution_count": 103,
   "metadata": {},
   "outputs": [
    {
     "name": "stdout",
     "output_type": "stream",
     "text": [
      "[0, 0]\n"
     ]
    }
   ],
   "source": [
    "print()"
   ]
  },
  {
   "cell_type": "code",
   "execution_count": 94,
   "metadata": {},
   "outputs": [
    {
     "name": "stdout",
     "output_type": "stream",
     "text": [
      "19\n"
     ]
    }
   ],
   "source": [
    "res = []\n",
    "\n",
    "for x in range(0, 4):\n",
    "    for y in range(0, 4):\n",
    "        s = sum(arr[x][y:y+3]) + arr[x+1][y+1] + sum(arr[x+2][y:y+3])\n",
    "        res.append(s)\n",
    "\n",
    "print(max(res))"
   ]
  },
  {
   "cell_type": "code",
   "execution_count": 36,
   "metadata": {},
   "outputs": [
    {
     "name": "stdout",
     "output_type": "stream",
     "text": [
      "[1, 2] 1 [1, 2] 2 [3, 4] 3 [3, 4] 4 [5, 6] 5 [5, 6] 6 [7, 8] 7 [7, 8] 8 [9, 10] 9 [9, 10] 10 [11, 12] 11 [11, 12] 12 [34, 67] 34 [34, 67] 67 [45, 67] 45 [45, 67] 67 \n",
      "\n",
      "Array After Insert \n",
      "\n"
     ]
    }
   ],
   "source": [
    "TwoArray = [[1,2],[3,4],[5,6],[7,8],[9,10],[11,12],[34,67],[45,67]]\n",
    "print_array(TwoArray)\n",
    "print('\\nArray After Insert \\n')\n",
    "\n",
    "TwoArray.insert(0,[234])    "
   ]
  },
  {
   "cell_type": "code",
   "execution_count": 17,
   "metadata": {},
   "outputs": [
    {
     "name": "stdout",
     "output_type": "stream",
     "text": [
      "AB\n",
      "CA\n",
      "AD\n"
     ]
    }
   ],
   "source": [
    "def string_merge_tool(string,k):\n",
    "    for i in range(0,len(string),k):\n",
    "        new_string = string[i:k+i]\n",
    "        seen = set()\n",
    "        \n",
    "        for i in new_string:\n",
    "            if i not in seen:\n",
    "                print(i,end='')\n",
    "                seen.add(i)\n",
    "            \n",
    "        print()\n",
    "string_merge_tool('AABCAAADA',3)"
   ]
  },
  {
   "cell_type": "code",
   "execution_count": 29,
   "metadata": {},
   "outputs": [
    {
     "name": "stdout",
     "output_type": "stream",
     "text": [
      "('A', 'A', 'B')\n",
      "('C', 'A', 'A')\n",
      "('A', 'D', 'A')\n"
     ]
    }
   ],
   "source": [
    "for part in zip(*[iter('AABCAAADA')]*3):\n",
    "    print(part)"
   ]
  },
  {
   "cell_type": "code",
   "execution_count": 30,
   "metadata": {},
   "outputs": [
    {
     "name": "stdout",
     "output_type": "stream",
     "text": [
      "AABCAAADA\n",
      "3\n",
      "AB\n",
      "CA\n",
      "AD\n"
     ]
    }
   ],
   "source": [
    "S, N = input(), int(input()) \n",
    "for part in zip(*[iter(S)] * N):\n",
    "    d = dict()\n",
    "    print(''.join([ d.setdefault(c, c) for c in part if c not in d ]))"
   ]
  },
  {
   "cell_type": "code",
   "execution_count": 31,
   "metadata": {},
   "outputs": [
    {
     "name": "stdout",
     "output_type": "stream",
     "text": [
      "AABCAAADA\n",
      "3\n",
      "AB\n",
      "CA\n",
      "AD\n"
     ]
    }
   ],
   "source": [
    "def merge_the_tools(string, k):\n",
    "    for i in range(0,len(string), k):\n",
    "    \t#slice string upto k characters\n",
    "        line = string[i:i+k]\n",
    "        seen = set()\n",
    "        for i in line:\n",
    "        \t#only print if we haven't already seen this character\n",
    "            if i not in seen:\n",
    "                print(i,end=\"\")\n",
    "                seen.add(i)\n",
    "        #prints a new line\n",
    "        print()\n",
    "\n",
    "if __name__ == '__main__':\n",
    "    string, k = input(), int(input())\n",
    "    merge_the_tools(string, k)"
   ]
  },
  {
   "cell_type": "code",
   "execution_count": 100,
   "metadata": {},
   "outputs": [
    {
     "name": "stdout",
     "output_type": "stream",
     "text": [
      "13\n",
      "2\n"
     ]
    }
   ],
   "source": [
    "n = int(input())\n",
    "binary = format(n,'b')   \n",
    "print(max(map(len,binary.split('0'))))"
   ]
  },
  {
   "cell_type": "code",
   "execution_count": 105,
   "metadata": {},
   "outputs": [
    {
     "name": "stdout",
     "output_type": "stream",
     "text": [
      "5\n"
     ]
    }
   ],
   "source": [
    "binary = format(111111111,'b')\n",
    "res = max(map(len,binary.split('0')))\n",
    "print(res)"
   ]
  },
  {
   "cell_type": "code",
   "execution_count": 114,
   "metadata": {},
   "outputs": [],
   "source": [
    "def binary(n):\n",
    "    b_num = bin(n)[2:]\n",
    "    print(cos_one(b_num))    \n",
    "    \n",
    "def cos_one(b_num):\n",
    "    b_num = str(b_num)\n",
    "    counter = 0\n",
    "    for i,m in enumerate(b_num):\n",
    "        if i < len(b_num)-1:\n",
    "            if b_num[i] == b_num[i+1] == '1':\n",
    "                counter += 1\n",
    "    return counter"
   ]
  },
  {
   "cell_type": "code",
   "execution_count": 117,
   "metadata": {},
   "outputs": [
    {
     "data": {
      "text/plain": [
       "7"
      ]
     },
     "execution_count": 117,
     "metadata": {},
     "output_type": "execute_result"
    }
   ],
   "source": [
    "cos_one(1110111111)"
   ]
  },
  {
   "cell_type": "code",
   "execution_count": 51,
   "metadata": {},
   "outputs": [
    {
     "name": "stdout",
     "output_type": "stream",
     "text": [
      "101"
     ]
    }
   ],
   "source": [
    "def DecimalToBinary(num): \n",
    "    if num > 1:\n",
    "        DecimalToBinary(num // 2)\n",
    "\n",
    "    print(num % 2, end = '') \n",
    "    \n",
    "DecimalToBinary(5)"
   ]
  },
  {
   "cell_type": "code",
   "execution_count": 53,
   "metadata": {},
   "outputs": [
    {
     "data": {
      "text/plain": [
       "'0b1100100'"
      ]
     },
     "execution_count": 53,
     "metadata": {},
     "output_type": "execute_result"
    }
   ],
   "source": []
  },
  {
   "cell_type": "code",
   "execution_count": 4,
   "metadata": {},
   "outputs": [
    {
     "name": "stdout",
     "output_type": "stream",
     "text": [
      "5\n",
      "Factorial of 5 is 120\n"
     ]
    }
   ],
   "source": [
    "n = int(input())\n",
    "factorial = 1\n",
    "\n",
    "if n < 0:\n",
    "    print('Negitive Number do not have factorial')\n",
    "elif n == 0:\n",
    "    print('Factorial of Zero is 1')\n",
    "else:\n",
    "    for i in range(1,n+1):\n",
    "        factorial *= i\n",
    "        \n",
    "print(f'Factorial of {n} is {factorial}')"
   ]
  },
  {
   "cell_type": "code",
   "execution_count": 17,
   "metadata": {},
   "outputs": [
    {
     "data": {
      "text/plain": [
       "120"
      ]
     },
     "execution_count": 17,
     "metadata": {},
     "output_type": "execute_result"
    }
   ],
   "source": [
    "def factorial(n):\n",
    "    if n > 0:\n",
    "        result = n * factorial(n-1)\n",
    "    else:\n",
    "        result = 1\n",
    "    return result"
   ]
  },
  {
   "cell_type": "code",
   "execution_count": 15,
   "metadata": {},
   "outputs": [
    {
     "name": "stdout",
     "output_type": "stream",
     "text": [
      "\n",
      "\n",
      "Recursion Example Results\n",
      "1\n",
      "2\n",
      "6\n",
      "24\n",
      "120\n",
      "720\n"
     ]
    },
    {
     "data": {
      "text/plain": [
       "720"
      ]
     },
     "execution_count": 15,
     "metadata": {},
     "output_type": "execute_result"
    }
   ],
   "source": [
    "def tri_recursion(k):\n",
    "  if(k>0):\n",
    "    result = k*tri_recursion(k-1)\n",
    "    print(result)\n",
    "  else:\n",
    "    result = 1\n",
    "  return result\n",
    "\n",
    "print(\"\\n\\nRecursion Example Results\")\n",
    "tri_recursion(6)"
   ]
  },
  {
   "cell_type": "code",
   "execution_count": null,
   "metadata": {},
   "outputs": [],
   "source": [
    "for i range(1,n):\n",
    "    return "
   ]
  },
  {
   "cell_type": "code",
   "execution_count": 41,
   "metadata": {},
   "outputs": [
    {
     "name": "stdout",
     "output_type": "stream",
     "text": [
      "3\n",
      "salman 2\n",
      "did 4\n",
      "sonu 3\n",
      "a\n",
      "Not found\n",
      "b\n",
      "Not found\n",
      "c\n",
      "Not found\n"
     ]
    }
   ],
   "source": [
    "# Enter your code here. Read input from STDIN. Print output to STDOUT\n",
    "n = int(input())\n",
    "phone_book = {}\n",
    "src_name = []\n",
    "for i in range(n):\n",
    "    name,phone = input().split()\n",
    "    phone_book[name] = phone\n",
    "\n",
    "\n",
    "for i in range(n):\n",
    "    try:\n",
    "        item = input()\n",
    "        if phone_book.get(item,'') != '':\n",
    "            print(item+'='+phone_book[item])\n",
    "        else:\n",
    "            print('Not found')\n",
    "    except:\n",
    "        pass"
   ]
  },
  {
   "cell_type": "code",
   "execution_count": 34,
   "metadata": {},
   "outputs": [
    {
     "data": {
      "text/plain": [
       "100000"
      ]
     },
     "execution_count": 34,
     "metadata": {},
     "output_type": "execute_result"
    }
   ],
   "source": [
    "src_name = list(range(100000))"
   ]
  },
  {
   "cell_type": "code",
   "execution_count": 36,
   "metadata": {},
   "outputs": [
    {
     "data": {
      "text/plain": [
       "True"
      ]
     },
     "execution_count": 36,
     "metadata": {},
     "output_type": "execute_result"
    }
   ],
   "source": [
    "100 in src_name"
   ]
  },
  {
   "cell_type": "code",
   "execution_count": 12,
   "metadata": {},
   "outputs": [
    {
     "name": "stdout",
     "output_type": "stream",
     "text": [
      "5\n",
      "1 2 3 4 5 \n",
      "5 4 3 2 1 "
     ]
    }
   ],
   "source": [
    "n = int(input())\n",
    "\n",
    "arr = list(map(int, input().rstrip().split()))\n",
    "for i in range(len(arr)-1,-1,-1):\n",
    "    print(arr[i],end = ' ')"
   ]
  },
  {
   "cell_type": "code",
   "execution_count": 22,
   "metadata": {},
   "outputs": [
    {
     "name": "stdout",
     "output_type": "stream",
     "text": [
      "fsonsfj                 fslfjslkjfl\n",
      "fsonsfj fslfjslkjfl\n"
     ]
    }
   ],
   "source": [
    "name,phone = input().split()\n",
    "print(name,phone)"
   ]
  },
  {
   "cell_type": "code",
   "execution_count": 1,
   "metadata": {},
   "outputs": [],
   "source": [
    "from itertools import combinations\n",
    "result = list(combinations('12345',3))"
   ]
  },
  {
   "cell_type": "code",
   "execution_count": 2,
   "metadata": {},
   "outputs": [
    {
     "name": "stdout",
     "output_type": "stream",
     "text": [
      "[('1', '2', '3'), ('1', '2', '4'), ('1', '2', '5'), ('1', '3', '4'), ('1', '3', '5'), ('1', '4', '5'), ('2', '3', '4'), ('2', '3', '5'), ('2', '4', '5'), ('3', '4', '5')]\n"
     ]
    }
   ],
   "source": [
    "print(result)"
   ]
  },
  {
   "cell_type": "code",
   "execution_count": 54,
   "metadata": {},
   "outputs": [
    {
     "name": "stdout",
     "output_type": "stream",
     "text": [
      "3\n",
      "4\n",
      "5\n",
      "81.0\n",
      "1\n"
     ]
    }
   ],
   "source": [
    "# Enter your code here. Read input from STDIN. Print output to STDOUT\n",
    "a, b, m = float(input()),float(input()),int(input())\n",
    "print(pow(a,b))\n",
    "print(pow(int(a),int(b),m))"
   ]
  },
  {
   "cell_type": "code",
   "execution_count": 42,
   "metadata": {},
   "outputs": [
    {
     "data": {
      "text/plain": [
       "(2, 0)"
      ]
     },
     "execution_count": 42,
     "metadata": {},
     "output_type": "execute_result"
    }
   ],
   "source": [
    "divmod(10,5)"
   ]
  },
  {
   "cell_type": "code",
   "execution_count": 72,
   "metadata": {},
   "outputs": [
    {
     "name": "stdout",
     "output_type": "stream",
     "text": [
      "1\n",
      "22\n",
      "333\n",
      "4444\n",
      "55555\n"
     ]
    }
   ],
   "source": [
    "for i in range(1,6):\n",
    "    #print (((10 ** i - 1) // 9) ** 2)\n",
    "    print((10**(i)//9)*i)"
   ]
  },
  {
   "cell_type": "code",
   "execution_count": 83,
   "metadata": {},
   "outputs": [
    {
     "data": {
      "text/plain": [
       "22"
      ]
     },
     "execution_count": 83,
     "metadata": {},
     "output_type": "execute_result"
    }
   ],
   "source": [
    "(10**2)//9*2"
   ]
  },
  {
   "cell_type": "code",
   "execution_count": 81,
   "metadata": {},
   "outputs": [
    {
     "data": {
      "text/plain": [
       "121"
      ]
     },
     "execution_count": 81,
     "metadata": {},
     "output_type": "execute_result"
    }
   ],
   "source": [
    "((10 ** 2 - 1) // 9) ** 2"
   ]
  },
  {
   "cell_type": "code",
   "execution_count": 6,
   "metadata": {},
   "outputs": [
    {
     "data": {
      "text/plain": [
       "45.0"
      ]
     },
     "execution_count": 6,
     "metadata": {},
     "output_type": "execute_result"
    }
   ],
   "source": [
    "import math\n",
    "a = math.atan(10/10)\n",
    "math.degrees(a)"
   ]
  },
  {
   "cell_type": "code",
   "execution_count": 15,
   "metadata": {},
   "outputs": [
    {
     "name": "stdout",
     "output_type": "stream",
     "text": [
      "45°\n"
     ]
    }
   ],
   "source": [
    "s1 = 10\n",
    "s2 = 10\n",
    "print('{}°'.format(round(math.degrees(math.atan(s1/s2)))))"
   ]
  },
  {
   "cell_type": "code",
   "execution_count": 95,
   "metadata": {},
   "outputs": [],
   "source": [
    "minion_game('Hello World')"
   ]
  },
  {
   "cell_type": "code",
   "execution_count": 91,
   "metadata": {},
   "outputs": [
    {
     "name": "stdout",
     "output_type": "stream",
     "text": [
      "I'm Wait \n",
      "I'm Wait \n"
     ]
    }
   ],
   "source": [
    "words = input().split(' ')\n",
    "\n",
    "print(' '.join(word.capitalize() for word in words))"
   ]
  },
  {
   "cell_type": "code",
   "execution_count": 89,
   "metadata": {},
   "outputs": [
    {
     "name": "stdout",
     "output_type": "stream",
     "text": [
      "E\n"
     ]
    }
   ],
   "source": [
    "b = s.split(' ')\n",
    "for i in range(len(b)):\n",
    "    b[i] = b[i].capitalize()\n",
    "    \n",
    "print(' '.join(b))"
   ]
  },
  {
   "cell_type": "code",
   "execution_count": 103,
   "metadata": {},
   "outputs": [],
   "source": [
    "a = 'Banana'\n",
    "unique_word = set()\n",
    "for i in a:\n",
    "    for j in a:\n",
    "        unique_word.add(i+j)"
   ]
  },
  {
   "cell_type": "code",
   "execution_count": 113,
   "metadata": {},
   "outputs": [
    {
     "data": {
      "text/plain": [
       "['G',\n",
       " 'Ge',\n",
       " 'Gee',\n",
       " 'Geek',\n",
       " 'Geeks',\n",
       " 'e',\n",
       " 'ee',\n",
       " 'eek',\n",
       " 'eeks',\n",
       " 'e',\n",
       " 'ek',\n",
       " 'eks',\n",
       " 'k',\n",
       " 'ks',\n",
       " 's']"
      ]
     },
     "execution_count": 113,
     "metadata": {},
     "output_type": "execute_result"
    }
   ],
   "source": [
    "test_str = \"Geeks\"\n",
    "vovel = [x for x in ['a','i','e','o','u'] if x in test_str]\n",
    "res = [test_str[i: j] for i in range(len(test_str)) \n",
    "          for j in range(i + 1, len(test_str) + 1)]\n",
    "res"
   ]
  },
  {
   "cell_type": "code",
   "execution_count": 122,
   "metadata": {},
   "outputs": [
    {
     "name": "stdout",
     "output_type": "stream",
     "text": [
      "14\n"
     ]
    }
   ],
   "source": [
    "#All Posible substring \n",
    "test_str = 'Hello'\n",
    "words = set()\n",
    "for i in range(len(test_str)):\n",
    "    for j in range(i+1,len(test_str)+1):\n",
    "        words.add(test_str[i:j])\n",
    "print(len(words))"
   ]
  },
  {
   "cell_type": "code",
   "execution_count": 163,
   "metadata": {
    "scrolled": true
   },
   "outputs": [
    {
     "name": "stdout",
     "output_type": "stream",
     "text": [
      "Kevin 10\n"
     ]
    }
   ],
   "source": [
    "#All Posible substring \n",
    "test_str = 'Hello'\n",
    "vovel = 'aeiou'\n",
    "words = set()\n",
    "s_count = 0\n",
    "k_count = 0\n",
    "\n",
    "for i in range(len(test_str)):\n",
    "    for j in range(i+1,len(test_str)+1):\n",
    "        if test_str[i] in vovel :\n",
    "            s_count += 1\n",
    "        else:\n",
    "            k_count += 1\n",
    "            \n",
    "            \n",
    "if(s_count > k_count):\n",
    "    print('Stuade',s_count)\n",
    "else:\n",
    "    print('Kevin',k_count)"
   ]
  },
  {
   "cell_type": "code",
   "execution_count": 157,
   "metadata": {},
   "outputs": [],
   "source": [
    "def minion_game(string):\n",
    "    # your code goes here\n",
    "    vovels = 'AEIOU'\n",
    "    s_count = 0\n",
    "    k_count = 0\n",
    "\n",
    "    for i in range(len(string)):\n",
    "        if(string[i] in vovels):\n",
    "            k_count += (len(string)-i)\n",
    "            print('k_count',k_count)\n",
    "        else:\n",
    "            s_count += (len(string)-i)\n",
    "            print('s_count ',s_count)\n",
    "\n",
    "    if k_count > s_count:\n",
    "        print('Kevin',k_count)\n",
    "    else:\n",
    "        print('Stuart',s_count)"
   ]
  },
  {
   "cell_type": "code",
   "execution_count": 161,
   "metadata": {},
   "outputs": [
    {
     "name": "stdout",
     "output_type": "stream",
     "text": [
      "k_count 6\n",
      "k_count 11\n",
      "k_count 15\n",
      "s_count  3\n",
      "k_count 17\n",
      "k_count 18\n",
      "Kevin 18\n"
     ]
    }
   ],
   "source": [
    "minion_game('AEISOU')"
   ]
  },
  {
   "cell_type": "code",
   "execution_count": null,
   "metadata": {},
   "outputs": [],
   "source": []
  },
  {
   "cell_type": "code",
   "execution_count": null,
   "metadata": {},
   "outputs": [],
   "source": []
  },
  {
   "cell_type": "code",
   "execution_count": null,
   "metadata": {},
   "outputs": [],
   "source": []
  },
  {
   "cell_type": "code",
   "execution_count": null,
   "metadata": {},
   "outputs": [],
   "source": []
  },
  {
   "cell_type": "code",
   "execution_count": null,
   "metadata": {},
   "outputs": [],
   "source": []
  },
  {
   "cell_type": "code",
   "execution_count": null,
   "metadata": {},
   "outputs": [],
   "source": []
  },
  {
   "cell_type": "code",
   "execution_count": null,
   "metadata": {},
   "outputs": [],
   "source": []
  },
  {
   "cell_type": "code",
   "execution_count": 117,
   "metadata": {},
   "outputs": [
    {
     "data": {
      "text/plain": [
       "'aieou'"
      ]
     },
     "execution_count": 117,
     "metadata": {},
     "output_type": "execute_result"
    }
   ],
   "source": [
    "#Vovels\n",
    "test_str = 'HelloWorld he is a sonu'\n",
    "vovel = [x for x in ['a','i','e','o','u'] if x in test_str]\n",
    "vovel = ''.join(vovel)\n",
    "vovel"
   ]
  },
  {
   "cell_type": "code",
   "execution_count": 136,
   "metadata": {},
   "outputs": [],
   "source": [
    "string = 'HelloWorld'\n",
    "\n",
    "def is_vovel(s):\n",
    "    return s in ['a','e','i','o','u']\n",
    "\n",
    "def check_valid(s):\n",
    "    for ch in range(len(s)):\n",
    "        if(is_vovel(ch)):\n",
    "            return True\n",
    "        else:\n",
    "            return False"
   ]
  },
  {
   "cell_type": "code",
   "execution_count": 131,
   "metadata": {
    "scrolled": true
   },
   "outputs": [
    {
     "name": "stdout",
     "output_type": "stream",
     "text": [
      "True\n",
      "True\n",
      "True\n",
      "True\n",
      "True\n"
     ]
    }
   ],
   "source": [
    "result = map(is_vovel,['a','e','i','o','u'])\n",
    "for i in result:\n",
    "    print(i)"
   ]
  },
  {
   "cell_type": "code",
   "execution_count": 138,
   "metadata": {},
   "outputs": [],
   "source": [
    "def minion_game(string):\n",
    "    count1 = 0\n",
    "    count2 = 0\n",
    "    vowels = [\"A\",\"E\",\"I\",\"O\",\"U\"]\n",
    "    for i in range(len(string)):\n",
    "        if string[i] in vowels:\n",
    "            count1 += len(string) - i\n",
    "        else:\n",
    "            count2 += len(string) - i\n",
    "    \n",
    "    if count1 > count2:\n",
    "        result = \"Kevin \" + str(count1)\n",
    "    elif count2 > count1:\n",
    "        result = \"Stuart \" + str(count2)\n",
    "    else:\n",
    "        result = \"Draw\"\n",
    "    \n",
    "    print(result)"
   ]
  },
  {
   "cell_type": "code",
   "execution_count": 140,
   "metadata": {},
   "outputs": [
    {
     "name": "stdout",
     "output_type": "stream",
     "text": [
      "Stuart 78\n"
     ]
    }
   ],
   "source": [
    "minion_game('helloWoldsfb')"
   ]
  },
  {
   "cell_type": "code",
   "execution_count": 142,
   "metadata": {},
   "outputs": [
    {
     "name": "stdout",
     "output_type": "stream",
     "text": [
      "Stuart 15\n"
     ]
    }
   ],
   "source": [
    "minion_game('aeiou')"
   ]
  },
  {
   "cell_type": "code",
   "execution_count": 88,
   "metadata": {},
   "outputs": [
    {
     "name": "stdout",
     "output_type": "stream",
     "text": [
      "--------e--------\n",
      "------e-d-e------\n",
      "----e-d-c-d-e----\n",
      "--e-d-c-b-c-d-e--\n",
      "e-d-c-b-a-b-c-d-e\n",
      "--e-d-c-b-c-d-e--\n",
      "----e-d-c-d-e----\n",
      "------e-d-e------\n",
      "--------e--------\n"
     ]
    }
   ],
   "source": [
    "import string\n",
    "alpha = string.ascii_lowercase\n",
    "\n",
    "L = []\n",
    "for i in range(n):\n",
    "    s = \"-\".join(alpha[i:n])\n",
    "    L.append((s[::-1]+s[1:]).center(4*n-3, \"-\"))\n",
    "print('\\n'.join(L[:0:-1]+L))"
   ]
  },
  {
   "cell_type": "code",
   "execution_count": 27,
   "metadata": {},
   "outputs": [
    {
     "name": "stdout",
     "output_type": "stream",
     "text": [
      "HelloWorld\n"
     ]
    }
   ],
   "source": [
    "text = 'HelloWorld'\n",
    "text.center(30)\n",
    "print(text)"
   ]
  },
  {
   "cell_type": "code",
   "execution_count": null,
   "metadata": {},
   "outputs": [],
   "source": []
  },
  {
   "cell_type": "code",
   "execution_count": 17,
   "metadata": {},
   "outputs": [
    {
     "name": "stdout",
     "output_type": "stream",
     "text": [
      "17\n",
      "1.00 0o1 0x1 0b1\n",
      "2.00 0o2 0x2 0b10\n",
      "3.00 0o3 0x3 0b11\n",
      "4.00 0o4 0x4 0b100\n",
      "5.00 0o5 0x5 0b101\n",
      "6.00 0o6 0x6 0b110\n",
      "7.00 0o7 0x7 0b111\n",
      "8.00 0o10 0x8 0b1000\n",
      "9.00 0o11 0x9 0b1001\n",
      "10.00 0o12 0xa 0b1010\n",
      "11.00 0o13 0xb 0b1011\n",
      "12.00 0o14 0xc 0b1100\n",
      "13.00 0o15 0xd 0b1101\n",
      "14.00 0o16 0xe 0b1110\n",
      "15.00 0o17 0xf 0b1111\n",
      "16.00 0o20 0x10 0b10000\n",
      "17.00 0o21 0x11 0b10001\n"
     ]
    }
   ],
   "source": [
    "n = int(input())\n",
    "\n",
    "for i in range(1,n+1):\n",
    "    print('{:.2f} {} {} {}'.format(float(i),oct(i),hex(i),bin(i)))"
   ]
  },
  {
   "cell_type": "code",
   "execution_count": 15,
   "metadata": {},
   "outputs": [
    {
     "data": {
      "text/plain": [
       "4"
      ]
     },
     "execution_count": 15,
     "metadata": {},
     "output_type": "execute_result"
    }
   ],
   "source": [
    "n = 10\n",
    "width = len(\"{0:b}\".format(n))\n",
    "width"
   ]
  },
  {
   "cell_type": "code",
   "execution_count": 14,
   "metadata": {},
   "outputs": [
    {
     "data": {
      "text/plain": [
       "2"
      ]
     },
     "execution_count": 14,
     "metadata": {},
     "output_type": "execute_result"
    }
   ],
   "source": [
    "len(\"{0:o}\".format(10))"
   ]
  },
  {
   "cell_type": "code",
   "execution_count": 23,
   "metadata": {},
   "outputs": [
    {
     "name": "stdout",
     "output_type": "stream",
     "text": [
      "15\n",
      "   1    1    1    1\n",
      "   2    2    2   10\n",
      "   3    3    3   11\n",
      "   4    4    4  100\n",
      "   5    5    5  101\n",
      "   6    6    6  110\n",
      "   7    7    7  111\n",
      "   8   10    8 1000\n",
      "   9   11    9 1001\n",
      "  10   12    A 1010\n",
      "  11   13    B 1011\n",
      "  12   14    C 1100\n",
      "  13   15    D 1101\n",
      "  14   16    E 1110\n",
      "  15   17    F 1111\n"
     ]
    }
   ],
   "source": [
    "n = int(input())\n",
    "width = len(\"{0:b}\".format(n))\n",
    "for i in range(1,n+1):\n",
    "    print (\"{0:{width}d} {0:{width}o} {0:{width}X} {0:{width}b}\".format(i,width=width))"
   ]
  },
  {
   "cell_type": "code",
   "execution_count": 9,
   "metadata": {},
   "outputs": [
    {
     "name": "stdout",
     "output_type": "stream",
     "text": [
      "58.45986\n"
     ]
    },
    {
     "ename": "ValueError",
     "evalue": "invalid literal for int() with base 10: '58.45986'",
     "output_type": "error",
     "traceback": [
      "\u001b[1;31m---------------------------------------------------------------------------\u001b[0m",
      "\u001b[1;31mValueError\u001b[0m                                Traceback (most recent call last)",
      "\u001b[1;32m<ipython-input-9-1f50860e4db7>\u001b[0m in \u001b[0;36m<module>\u001b[1;34m\u001b[0m\n\u001b[1;32m----> 1\u001b[1;33m \u001b[0ma_float\u001b[0m \u001b[1;33m=\u001b[0m \u001b[0mint\u001b[0m\u001b[1;33m(\u001b[0m\u001b[0minput\u001b[0m\u001b[1;33m(\u001b[0m\u001b[1;33m)\u001b[0m\u001b[1;33m)\u001b[0m\u001b[1;33m\u001b[0m\u001b[1;33m\u001b[0m\u001b[0m\n\u001b[0m\u001b[0;32m      2\u001b[0m \u001b[0mformatted_float\u001b[0m \u001b[1;33m=\u001b[0m \u001b[1;34m\"{:.2f}\"\u001b[0m\u001b[1;33m.\u001b[0m\u001b[0mformat\u001b[0m\u001b[1;33m(\u001b[0m\u001b[0ma_float\u001b[0m\u001b[1;33m)\u001b[0m\u001b[1;33m\u001b[0m\u001b[1;33m\u001b[0m\u001b[0m\n",
      "\u001b[1;31mValueError\u001b[0m: invalid literal for int() with base 10: '58.45986'"
     ]
    }
   ],
   "source": [
    "a_float = int(input())\n",
    "formatted_float = \"{:.2f}\".format(a_float)"
   ]
  },
  {
   "cell_type": "code",
   "execution_count": 8,
   "metadata": {},
   "outputs": [
    {
     "name": "stdout",
     "output_type": "stream",
     "text": [
      "3.14\n"
     ]
    }
   ],
   "source": [
    "print(formatted_float)"
   ]
  },
  {
   "cell_type": "code",
   "execution_count": 3,
   "metadata": {},
   "outputs": [
    {
     "data": {
      "text/plain": [
       "'0b1010'"
      ]
     },
     "execution_count": 3,
     "metadata": {},
     "output_type": "execute_result"
    }
   ],
   "source": [
    "bin(10)"
   ]
  },
  {
   "cell_type": "code",
   "execution_count": 2,
   "metadata": {},
   "outputs": [
    {
     "data": {
      "text/plain": [
       "'0o12'"
      ]
     },
     "execution_count": 2,
     "metadata": {},
     "output_type": "execute_result"
    }
   ],
   "source": [
    "oct(10)"
   ]
  },
  {
   "cell_type": "code",
   "execution_count": 1,
   "metadata": {},
   "outputs": [
    {
     "data": {
      "text/plain": [
       "'0xa'"
      ]
     },
     "execution_count": 1,
     "metadata": {},
     "output_type": "execute_result"
    }
   ],
   "source": [
    "hex(10)"
   ]
  },
  {
   "cell_type": "code",
   "execution_count": 6,
   "metadata": {},
   "outputs": [
    {
     "name": "stdout",
     "output_type": "stream",
     "text": [
      "2\n",
      "insert 2 5\n",
      "remove 2\n"
     ]
    },
    {
     "ename": "ValueError",
     "evalue": "list.remove(x): x not in list",
     "output_type": "error",
     "traceback": [
      "\u001b[1;31m---------------------------------------------------------------------------\u001b[0m",
      "\u001b[1;31mValueError\u001b[0m                                Traceback (most recent call last)",
      "\u001b[1;32m<ipython-input-6-1202a53943f5>\u001b[0m in \u001b[0;36m<module>\u001b[1;34m\u001b[0m\n\u001b[0;32m     12\u001b[0m         \u001b[0mprint\u001b[0m\u001b[1;33m(\u001b[0m\u001b[0mlst\u001b[0m\u001b[1;33m)\u001b[0m\u001b[1;33m\u001b[0m\u001b[1;33m\u001b[0m\u001b[0m\n\u001b[0;32m     13\u001b[0m     \u001b[1;32melif\u001b[0m \u001b[0moper\u001b[0m \u001b[1;33m==\u001b[0m \u001b[1;34m'remove'\u001b[0m\u001b[1;33m:\u001b[0m\u001b[1;33m\u001b[0m\u001b[1;33m\u001b[0m\u001b[0m\n\u001b[1;32m---> 14\u001b[1;33m         \u001b[0mlst\u001b[0m\u001b[1;33m.\u001b[0m\u001b[0mremove\u001b[0m\u001b[1;33m(\u001b[0m\u001b[0mint\u001b[0m\u001b[1;33m(\u001b[0m\u001b[0mlist_data\u001b[0m\u001b[1;33m[\u001b[0m\u001b[1;36m1\u001b[0m\u001b[1;33m]\u001b[0m\u001b[1;33m)\u001b[0m\u001b[1;33m)\u001b[0m\u001b[1;33m\u001b[0m\u001b[1;33m\u001b[0m\u001b[0m\n\u001b[0m\u001b[0;32m     15\u001b[0m     \u001b[1;32melif\u001b[0m \u001b[0moper\u001b[0m \u001b[1;33m==\u001b[0m \u001b[1;34m'append'\u001b[0m\u001b[1;33m:\u001b[0m\u001b[1;33m\u001b[0m\u001b[1;33m\u001b[0m\u001b[0m\n\u001b[0;32m     16\u001b[0m         \u001b[0mlst\u001b[0m\u001b[1;33m.\u001b[0m\u001b[0mappend\u001b[0m\u001b[1;33m(\u001b[0m\u001b[0mint\u001b[0m\u001b[1;33m(\u001b[0m\u001b[0mlist_data\u001b[0m\u001b[1;33m[\u001b[0m\u001b[1;36m1\u001b[0m\u001b[1;33m]\u001b[0m\u001b[1;33m)\u001b[0m\u001b[1;33m)\u001b[0m\u001b[1;33m\u001b[0m\u001b[1;33m\u001b[0m\u001b[0m\n",
      "\u001b[1;31mValueError\u001b[0m: list.remove(x): x not in list"
     ]
    }
   ],
   "source": [
    "N = int(input())\n",
    "lst = []\n",
    "count = 1\n",
    "while True:\n",
    "    list_data = input().split()\n",
    "    oper  = list_data[0]\n",
    "    \n",
    "\n",
    "    if oper == 'insert':\n",
    "        lst.insert(int(list_data[1]),int(list_data[2]))\n",
    "    elif oper == 'print':\n",
    "        print(lst)\n",
    "    elif oper == 'remove':\n",
    "        lst.remove(int(list_data[1]))\n",
    "    elif oper == 'append':\n",
    "        lst.append(int(list_data[1]))\n",
    "    elif oper == 'sort':\n",
    "        lst.sort()\n",
    "    elif oper == 'pop':\n",
    "        lst.pop\n",
    "    elif oper == 'reverse':\n",
    "        lst.reverse\n",
    "    else:\n",
    "        pass\n",
    "    \n",
    "    count += 1\n",
    "    \n",
    "    if count > N:\n",
    "        break"
   ]
  },
  {
   "cell_type": "code",
   "execution_count": 8,
   "metadata": {},
   "outputs": [
    {
     "data": {
      "text/plain": [
       "878713549624328283"
      ]
     },
     "execution_count": 8,
     "metadata": {},
     "output_type": "execute_result"
    }
   ],
   "source": [
    "hash('k')"
   ]
  },
  {
   "cell_type": "code",
   "execution_count": 9,
   "metadata": {},
   "outputs": [
    {
     "name": "stdout",
     "output_type": "stream",
     "text": [
      "programmerneverDiesmer\n",
      "mer\n",
      "2\n"
     ]
    }
   ],
   "source": [
    "string, substring = (input().strip(), input().strip())\n",
    "print(sum([ 1 for i in range(len(string)-len(substring)+1) if string[i:i+len(substring)] == substring]))"
   ]
  },
  {
   "cell_type": "code",
   "execution_count": 2,
   "metadata": {},
   "outputs": [],
   "source": [
    "insert i e: Insert integer  at position .\n",
    "print: Print the list.\n",
    "remove e: Delete the first occurrence of integer .\n",
    "append e: Insert integer  at the end of the list.\n",
    "sort: Sort the list.\n",
    "pop: Pop the last element from the list.\n",
    "reverse: Reverse the list."
   ]
  },
  {
   "cell_type": "code",
   "execution_count": 3,
   "metadata": {},
   "outputs": [
    {
     "ename": "TypeError",
     "evalue": "insert expected 2 arguments, got 1",
     "output_type": "error",
     "traceback": [
      "\u001b[1;31m---------------------------------------------------------------------------\u001b[0m",
      "\u001b[1;31mTypeError\u001b[0m                                 Traceback (most recent call last)",
      "\u001b[1;32m<ipython-input-3-83088ae231a5>\u001b[0m in \u001b[0;36m<module>\u001b[1;34m\u001b[0m\n\u001b[1;32m----> 1\u001b[1;33m \u001b[0mlst\u001b[0m\u001b[1;33m.\u001b[0m\u001b[0minsert\u001b[0m\u001b[1;33m(\u001b[0m\u001b[1;36m0\u001b[0m\u001b[1;33m)\u001b[0m\u001b[1;33m\u001b[0m\u001b[1;33m\u001b[0m\u001b[0m\n\u001b[0m",
      "\u001b[1;31mTypeError\u001b[0m: insert expected 2 arguments, got 1"
     ]
    }
   ],
   "source": [
    "lst.insert()"
   ]
  },
  {
   "cell_type": "code",
   "execution_count": 8,
   "metadata": {},
   "outputs": [],
   "source": [
    "lst = [1,2,3]"
   ]
  },
  {
   "cell_type": "code",
   "execution_count": 9,
   "metadata": {},
   "outputs": [
    {
     "data": {
      "text/plain": [
       "2"
      ]
     },
     "execution_count": 9,
     "metadata": {},
     "output_type": "execute_result"
    }
   ],
   "source": [
    "int(lst[1])"
   ]
  },
  {
   "cell_type": "code",
   "execution_count": 51,
   "metadata": {},
   "outputs": [
    {
     "data": {
      "text/plain": [
       "'cOdING IS aWSOME'"
      ]
     },
     "execution_count": 51,
     "metadata": {},
     "output_type": "execute_result"
    }
   ],
   "source": [
    "sonu = 'Awsome is CoDing'\n",
    "updated_string = sonu.split()\n",
    "updated_string\n",
    "updated_string.reverse()\n",
    "updated_string\n",
    "\n",
    "x = ' '.join(updated_string)\n",
    "\n",
    "result = ''\n",
    "\n",
    "for it in x:\n",
    "    if it.isupper():\n",
    "        result += it.lower()\n",
    "    elif it.islower():\n",
    "        result +=it.upper()\n",
    "    elif it.isspace():\n",
    "        result +=' '\n",
    "return result"
   ]
  },
  {
   "cell_type": "code",
   "execution_count": 15,
   "metadata": {},
   "outputs": [
    {
     "name": "stdout",
     "output_type": "stream",
     "text": [
      "This is\n",
      "a very\n",
      "very\n",
      "very\n",
      "very\n",
      "very\n",
      "long\n",
      "string.\n"
     ]
    }
   ],
   "source": [
    "import textwrap\n",
    "string = \"This is a very very very very very long string.\"\n",
    "print (textwrap.fill(string,8))"
   ]
  },
  {
   "cell_type": "code",
   "execution_count": null,
   "metadata": {},
   "outputs": [],
   "source": []
  },
  {
   "cell_type": "code",
   "execution_count": null,
   "metadata": {},
   "outputs": [],
   "source": []
  },
  {
   "cell_type": "code",
   "execution_count": null,
   "metadata": {},
   "outputs": [],
   "source": []
  },
  {
   "cell_type": "code",
   "execution_count": null,
   "metadata": {},
   "outputs": [],
   "source": []
  },
  {
   "cell_type": "code",
   "execution_count": null,
   "metadata": {},
   "outputs": [],
   "source": []
  },
  {
   "cell_type": "code",
   "execution_count": 35,
   "metadata": {},
   "outputs": [
    {
     "data": {
      "text/plain": [
       "'coding is awsome'"
      ]
     },
     "execution_count": 35,
     "metadata": {},
     "output_type": "execute_result"
    }
   ],
   "source": []
  },
  {
   "cell_type": "code",
   "execution_count": null,
   "metadata": {},
   "outputs": [],
   "source": []
  },
  {
   "cell_type": "code",
   "execution_count": 10,
   "metadata": {},
   "outputs": [
    {
     "name": "stdout",
     "output_type": "stream",
     "text": [
      "0   0\n"
     ]
    },
    {
     "ename": "ValueError",
     "evalue": "invalid literal for int() with base 10: '0   0'",
     "output_type": "error",
     "traceback": [
      "\u001b[1;31m---------------------------------------------------------------------------\u001b[0m",
      "\u001b[1;31mValueError\u001b[0m                                Traceback (most recent call last)",
      "\u001b[1;32m<ipython-input-10-2aacd74674d1>\u001b[0m in \u001b[0;36m<module>\u001b[1;34m\u001b[0m\n\u001b[0;32m      1\u001b[0m \u001b[1;32mtry\u001b[0m\u001b[1;33m:\u001b[0m\u001b[1;33m\u001b[0m\u001b[1;33m\u001b[0m\u001b[0m\n\u001b[1;32m----> 2\u001b[1;33m     \u001b[0mnum\u001b[0m \u001b[1;33m=\u001b[0m \u001b[0mint\u001b[0m\u001b[1;33m(\u001b[0m\u001b[0minput\u001b[0m\u001b[1;33m(\u001b[0m\u001b[1;33m)\u001b[0m\u001b[1;33m.\u001b[0m\u001b[0mstrip\u001b[0m\u001b[1;33m(\u001b[0m\u001b[1;33m)\u001b[0m\u001b[1;33m)\u001b[0m\u001b[1;33m\u001b[0m\u001b[1;33m\u001b[0m\u001b[0m\n\u001b[0m\u001b[0;32m      3\u001b[0m     \u001b[1;31m#num = 4\u001b[0m\u001b[1;33m\u001b[0m\u001b[1;33m\u001b[0m\u001b[1;33m\u001b[0m\u001b[0m\n\u001b[0;32m      4\u001b[0m     \u001b[1;32mif\u001b[0m\u001b[1;33m(\u001b[0m\u001b[0mnum\u001b[0m\u001b[1;33m%\u001b[0m\u001b[1;36m2\u001b[0m \u001b[1;33m==\u001b[0m \u001b[1;36m0\u001b[0m\u001b[1;33m)\u001b[0m\u001b[1;33m:\u001b[0m\u001b[1;33m\u001b[0m\u001b[1;33m\u001b[0m\u001b[0m\n\u001b[0;32m      5\u001b[0m         \u001b[1;32mif\u001b[0m\u001b[1;33m(\u001b[0m\u001b[0mnum\u001b[0m\u001b[1;33m>=\u001b[0m \u001b[1;36m2\u001b[0m \u001b[1;32mand\u001b[0m \u001b[0mnum\u001b[0m \u001b[1;33m<=\u001b[0m\u001b[1;36m5\u001b[0m\u001b[1;33m)\u001b[0m\u001b[1;33m:\u001b[0m\u001b[1;33m\u001b[0m\u001b[1;33m\u001b[0m\u001b[0m\n",
      "\u001b[1;31mValueError\u001b[0m: invalid literal for int() with base 10: '0   0'"
     ]
    }
   ],
   "source": [
    "try:\n",
    "    num = int(input().strip())\n",
    "    #num = 4\n",
    "    if(num%2 == 0):\n",
    "        if(num>= 2 and num <=5):\n",
    "            print (\"Not Weird\")\n",
    "        elif(num>=6 and num <=20):\n",
    "            print('Weird')\n",
    "        elif(num>20):\n",
    "            print('Not Weird')\n",
    "        else:\n",
    "            pass\n",
    "    else:\n",
    "        print('Weird')\n",
    "except EOFError as e:\n",
    "    print(e)"
   ]
  },
  {
   "cell_type": "code",
   "execution_count": null,
   "metadata": {},
   "outputs": [],
   "source": [
    "if(num%2 == 0):\n",
    "    if(num>= 2 and num <=5):\n",
    "        print (\"Not Weird\")\n",
    "    elif(num>=6 and num <=20):\n",
    "        print('Weird')\n",
    "    elif(num>20):\n",
    "        print('Not Weird')\n",
    "    else:\n",
    "        pass\n",
    "else:\n",
    "    print('Weird')"
   ]
  },
  {
   "cell_type": "code",
   "execution_count": null,
   "metadata": {},
   "outputs": [],
   "source": [
    "num = int(input().strip())\n",
    "if(num%2 == 0):\n",
    "    if(num>= 2 and num <=5):\n",
    "        print (\"Not Weird\")\n",
    "    elif(num>=6 and num <=20):\n",
    "        print('Weird')\n",
    "    elif(num>20):\n",
    "        print('Not Weird')\n",
    "    else:\n",
    "        pass\n",
    "else:\n",
    "    print('Weird')"
   ]
  },
  {
   "cell_type": "code",
   "execution_count": 16,
   "metadata": {},
   "outputs": [
    {
     "data": {
      "text/plain": [
       "392"
      ]
     },
     "execution_count": 16,
     "metadata": {},
     "output_type": "execute_result"
    }
   ],
   "source": [
    "1992 % 400"
   ]
  },
  {
   "cell_type": "code",
   "execution_count": 17,
   "metadata": {},
   "outputs": [
    {
     "name": "stdout",
     "output_type": "stream",
     "text": [
      "5\n",
      "12345\n"
     ]
    }
   ],
   "source": [
    "print(*range(1, int(input())+1), sep='')"
   ]
  },
  {
   "cell_type": "code",
   "execution_count": 44,
   "metadata": {},
   "outputs": [
    {
     "name": "stdout",
     "output_type": "stream",
     "text": [
      "5\n",
      "1 2 3 4 5\n",
      "4\n",
      "4 5 6 7\n",
      "{'3', '1', '2'}\n"
     ]
    }
   ],
   "source": [
    "# Enter your code here. Read input from STDIN. Print output to STDOUT\n",
    "num1, st1, num2, st2 = (set(raw_input().split()) for i in range(4))"
   ]
  },
  {
   "cell_type": "code",
   "execution_count": 41,
   "metadata": {},
   "outputs": [
    {
     "name": "stdout",
     "output_type": "stream",
     "text": [
      "[1, 2, 3, 4, 5, 6, 7, 8, 9]\n",
      "[1, 2, 3, 6, 8, 10, 11, 21, 55]\n"
     ]
    }
   ],
   "source": [
    "s1 = [1 ,2 ,3 ,4 ,5 ,6 ,7 ,8 ,9]\n",
    "s2 = [10, 1 ,2 ,3 ,11 ,21 ,55 ,6 ,8]\n",
    "s1.sort()\n",
    "s2.sort()\n",
    "print(s1)\n",
    "print(s2)"
   ]
  },
  {
   "cell_type": "code",
   "execution_count": 46,
   "metadata": {},
   "outputs": [
    {
     "name": "stdout",
     "output_type": "stream",
     "text": [
      "5\n",
      "1 2 3 4 5\n",
      "3\n",
      "1 2 3\n"
     ]
    }
   ],
   "source": [
    "num1, st1, num2, st2 = (set(input().split()) for i in range(4))"
   ]
  },
  {
   "cell_type": "code",
   "execution_count": 83,
   "metadata": {},
   "outputs": [
    {
     "name": "stdout",
     "output_type": "stream",
     "text": [
      "5\n",
      "9 8 7 6 5\n"
     ]
    }
   ],
   "source": [
    "n = int(input())\n",
    "arr = map(int, input().split())"
   ]
  },
  {
   "cell_type": "code",
   "execution_count": 85,
   "metadata": {},
   "outputs": [
    {
     "data": {
      "text/plain": [
       "8"
      ]
     },
     "execution_count": 85,
     "metadata": {},
     "output_type": "execute_result"
    }
   ],
   "source": [
    "sorted(set(arr))[-2]"
   ]
  },
  {
   "cell_type": "code",
   "execution_count": 184,
   "metadata": {},
   "outputs": [
    {
     "name": "stdout",
     "output_type": "stream",
     "text": [
      "5\n",
      "harry\n",
      "37.21\n",
      "Berry\n",
      "37.21\n",
      "Tina\n",
      "37.2\n",
      "Akriti\n",
      "41\n",
      "Harsh\n",
      "39\n",
      "harry\n",
      "Berry\n"
     ]
    }
   ],
   "source": [
    "student = []\n",
    "marks = set()\n",
    "second_lowest_marks = []\n",
    "\n",
    "for _ in range(int(input())):\n",
    "    name = input()\n",
    "    score = float(input())\n",
    "    student.append([name,score])\n",
    "    marks.add(score)\n",
    "\n",
    "lowest_mark = sorted(marks)[1]\n",
    "\n",
    "for name,score in student:\n",
    "    if score == lowest_mark:\n",
    "        second_lowest_marks.append(name)\n",
    "\n",
    "for i in second_lowest_marks:\n",
    "    print(i)"
   ]
  },
  {
   "cell_type": "code",
   "execution_count": 172,
   "metadata": {},
   "outputs": [],
   "source": [
    "student = [['Harry', 37.21], ['Berry', 37.21], ['Tina', 37.2], ['Akriti', 41], ['Harsh', 39]]"
   ]
  },
  {
   "cell_type": "code",
   "execution_count": 180,
   "metadata": {},
   "outputs": [],
   "source": [
    "marks = set()\n",
    "second_lowest_marks = []\n",
    "marks = set([mark for name,mark in student])\n",
    "\n",
    "lowest_mark = min(marks)\n",
    "\n",
    "for name,score in student:\n",
    "    if score == lowest_mark:\n",
    "        second_lowest_marks.append(name)"
   ]
  },
  {
   "cell_type": "code",
   "execution_count": 182,
   "metadata": {},
   "outputs": [
    {
     "data": {
      "text/plain": [
       "['Tina']"
      ]
     },
     "execution_count": 182,
     "metadata": {},
     "output_type": "execute_result"
    }
   ],
   "source": [
    "second_lowest_marks"
   ]
  },
  {
   "cell_type": "code",
   "execution_count": 163,
   "metadata": {},
   "outputs": [
    {
     "data": {
      "text/plain": [
       "[['joke', 37.45],\n",
       " ['peak', 85.25],\n",
       " ['poke', 37.55],\n",
       " ['sonu', 98.4],\n",
       " ['tonu', 55.32]]"
      ]
     },
     "execution_count": 163,
     "metadata": {},
     "output_type": "execute_result"
    }
   ],
   "source": [
    "student"
   ]
  },
  {
   "cell_type": "code",
   "execution_count": 162,
   "metadata": {},
   "outputs": [
    {
     "data": {
      "text/plain": [
       "['joke', 37.45]"
      ]
     },
     "execution_count": 162,
     "metadata": {},
     "output_type": "execute_result"
    }
   ],
   "source": [
    "min(student)"
   ]
  },
  {
   "cell_type": "code",
   "execution_count": 230,
   "metadata": {},
   "outputs": [],
   "source": [
    "d = {'Sonu':10,'Pappu':30}"
   ]
  },
  {
   "cell_type": "code",
   "execution_count": 231,
   "metadata": {},
   "outputs": [
    {
     "data": {
      "text/plain": [
       "{'Sonu': 10, 'Pappu': 30}"
      ]
     },
     "execution_count": 231,
     "metadata": {},
     "output_type": "execute_result"
    }
   ],
   "source": [
    "d"
   ]
  },
  {
   "cell_type": "code",
   "execution_count": 232,
   "metadata": {},
   "outputs": [],
   "source": [
    "d['sony']= 20"
   ]
  },
  {
   "cell_type": "code",
   "execution_count": 233,
   "metadata": {},
   "outputs": [
    {
     "name": "stdout",
     "output_type": "stream",
     "text": [
      "None\n"
     ]
    }
   ],
   "source": [
    "sonu =d.get('sonu')\n",
    "print(sonu)"
   ]
  },
  {
   "cell_type": "code",
   "execution_count": 21,
   "metadata": {},
   "outputs": [
    {
     "name": "stdout",
     "output_type": "stream",
     "text": [
      "1\n",
      "Sonu 85 69 75\n",
      "Sonu\n",
      "76.33\n"
     ]
    }
   ],
   "source": [
    "num_of_student = int(input())\n",
    "stud_dict = {}\n",
    "total_marks = 0\n",
    "\n",
    "for i in range(num_of_student):\n",
    "    stud_data = input().split()\n",
    "    stud_dict[stud_data[0]] = stud_data[1:]\n",
    "    \n",
    "stud_name = input()\n",
    "marks = [int(m) for m in stud_dict[stud_name]]\n",
    "\n",
    "total_marks = sum(marks)\n",
    "\n",
    "print('{:.2f}'.format(round(total_marks/len(marks),2)))"
   ]
  },
  {
   "cell_type": "code",
   "execution_count": 41,
   "metadata": {},
   "outputs": [
    {
     "name": "stdout",
     "output_type": "stream",
     "text": [
      "1\n",
      "1\n",
      "1\n",
      "2\n",
      "[[0, 0, 0], [0, 0, 1], [0, 1, 0], [1, 0, 0], [1, 1, 1]]\n"
     ]
    }
   ],
   "source": [
    "x,y,z,n = (int(input()) for _ in range(4))\n",
    "print([[a,b,c] for a in range(0,x+1) for b in range(0,y+1) for c in range(0,z+1) if a+b+c != n])"
   ]
  },
  {
   "cell_type": "code",
   "execution_count": null,
   "metadata": {},
   "outputs": [],
   "source": []
  },
  {
   "cell_type": "code",
   "execution_count": null,
   "metadata": {},
   "outputs": [],
   "source": []
  },
  {
   "cell_type": "code",
   "execution_count": null,
   "metadata": {},
   "outputs": [],
   "source": []
  },
  {
   "cell_type": "code",
   "execution_count": null,
   "metadata": {},
   "outputs": [],
   "source": []
  },
  {
   "cell_type": "code",
   "execution_count": null,
   "metadata": {},
   "outputs": [],
   "source": []
  },
  {
   "cell_type": "code",
   "execution_count": null,
   "metadata": {},
   "outputs": [],
   "source": []
  }
 ],
 "metadata": {
  "kernelspec": {
   "display_name": "Python 3",
   "language": "python",
   "name": "python3"
  },
  "language_info": {
   "codemirror_mode": {
    "name": "ipython",
    "version": 3
   },
   "file_extension": ".py",
   "mimetype": "text/x-python",
   "name": "python",
   "nbconvert_exporter": "python",
   "pygments_lexer": "ipython3",
   "version": "3.8.5"
  }
 },
 "nbformat": 4,
 "nbformat_minor": 4
}
