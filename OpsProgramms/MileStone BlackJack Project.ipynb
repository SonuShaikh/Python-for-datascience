{
 "cells": [
  {
   "cell_type": "code",
   "execution_count": 46,
   "metadata": {},
   "outputs": [],
   "source": [
    "#import section\n",
    "import random\n",
    "\n",
    "suits = ('Dymonds','Hearts','Clubs','Spades')\n",
    "ranks = ('Two','Three','Four','Five','Six','Seven','Eight','Nine','Ten','Jack','Queen','King','Ace')\n",
    "values = {'Two':2,'Three':3,'Four':4,'Five':5,'Six':6,'Seven':7,'Eight':8,'Nine':9,'Ten':10,\n",
    "          'Jack':12,'Queen':13,'King':14,'Ace':11}\n",
    "playing = True"
   ]
  },
  {
   "cell_type": "code",
   "execution_count": 4,
   "metadata": {},
   "outputs": [],
   "source": [
    "#Card Class\n",
    "class Card:\n",
    "    def __init__(self,suit,rank):\n",
    "        self.suit = suit\n",
    "        self.rank = rank\n",
    "        self.value = values[rank]\n",
    "    \n",
    "    def __str__(self):\n",
    "            return f'{self.rank} of {self.suit}' "
   ]
  },
  {
   "cell_type": "code",
   "execution_count": 5,
   "metadata": {},
   "outputs": [],
   "source": [
    "king_heart = Card('Hearts','King')\n",
    "three_club = Card(suits[1],ranks[0])"
   ]
  },
  {
   "cell_type": "code",
   "execution_count": 6,
   "metadata": {},
   "outputs": [
    {
     "name": "stdout",
     "output_type": "stream",
     "text": [
      "King of Hearts\n",
      "Two of Hearts\n"
     ]
    }
   ],
   "source": [
    "print(king_heart)\n",
    "print(three_club)"
   ]
  },
  {
   "cell_type": "code",
   "execution_count": 7,
   "metadata": {},
   "outputs": [],
   "source": [
    "#Deck class\n",
    "class Deck:\n",
    "    \n",
    "    def __init__(self):\n",
    "        self.deck = []\n",
    "        for suit in suits:\n",
    "            for rank in ranks:\n",
    "                self.deck.append(Card(suit,rank))\n",
    "    \n",
    "    def __str__(self):\n",
    "        deck_comp = ''\n",
    "        for card in self.deck:\n",
    "            deck_comp +='\\n'+card.__str__()\n",
    "        return 'The deck has: '+deck_comp\n",
    "        \n",
    "    def shuffle(self):\n",
    "        random.shuffle(self.deck)\n",
    "        \n",
    "    def deal_one(self):\n",
    "        return self.deck.pop()"
   ]
  },
  {
   "cell_type": "code",
   "execution_count": null,
   "metadata": {},
   "outputs": [],
   "source": []
  },
  {
   "cell_type": "code",
   "execution_count": 8,
   "metadata": {},
   "outputs": [],
   "source": [
    "new_deck = Deck()"
   ]
  },
  {
   "cell_type": "code",
   "execution_count": 9,
   "metadata": {},
   "outputs": [
    {
     "name": "stdout",
     "output_type": "stream",
     "text": [
      "Two of Dymonds\n",
      "Ace of Spades\n",
      "\n",
      "After shuffle \n",
      "\n",
      "King of Clubs\n",
      "Four of Dymonds\n"
     ]
    }
   ],
   "source": [
    "print(new_deck.deck[0])\n",
    "print(new_deck.deck[-1])\n",
    "len(new_deck.deck)\n",
    "\n",
    "#shuffle\n",
    "\n",
    "new_deck.shuffle()\n",
    "print('\\nAfter shuffle \\n')\n",
    "print(new_deck.deck[0])\n",
    "print(new_deck.deck[-1])"
   ]
  },
  {
   "cell_type": "code",
   "execution_count": 48,
   "metadata": {},
   "outputs": [],
   "source": [
    "class Hand:\n",
    "    def __init__(self):\n",
    "        self.cards = []  # start with an empty list as we did in the Deck class\n",
    "        self.value = 0   # start with zero value\n",
    "        self.aces = 0    # add an attribute to keep track of aces\n",
    "    \n",
    "    def add_card(self,card):\n",
    "        self.cards.append(card)\n",
    "        self.value += values[card.rank]\n",
    "        \n",
    "        #track aces\n",
    "        \n",
    "        if card.rank == 'Ace':\n",
    "            self.aces+= 1\n",
    "        \n",
    "    def adjust_for_ace(self):\n",
    "        \n",
    "        #IF TOTAL VALUE > 21 AND I STILL HAVE AN ACES\n",
    "        # THEN CHANGE MY ACE TO BE 1 INSTEAD OF AN 11\n",
    "        while self.value > 21 and self.aces > 0:\n",
    "            self.value -= 10\n",
    "            self.aces -= 1"
   ]
  },
  {
   "cell_type": "code",
   "execution_count": 49,
   "metadata": {},
   "outputs": [
    {
     "name": "stdout",
     "output_type": "stream",
     "text": [
      "Ten of Hearts\n"
     ]
    },
    {
     "data": {
      "text/plain": [
       "10"
      ]
     },
     "execution_count": 49,
     "metadata": {},
     "output_type": "execute_result"
    }
   ],
   "source": [
    "#TEST RUN\n",
    "#create instance of classes\n",
    "test_deck = Deck()\n",
    "test_player = Hand()\n",
    "\n",
    "#shuffle the deck\n",
    "test_deck.shuffle()\n",
    "\n",
    "#Grab the one card and print\n",
    "pulled_card = test_deck.deal_one()\n",
    "print(pulled_card)\n",
    "\n",
    "#add card to player's hand\n",
    "test_player.add_card(pulled_card)\n",
    "test_player.value"
   ]
  },
  {
   "cell_type": "code",
   "execution_count": 50,
   "metadata": {},
   "outputs": [],
   "source": [
    "#Chips class\n",
    "class Chips:\n",
    "    \n",
    "    def __init(self,total=100):\n",
    "        self.total = total \n",
    "        self.bet = 0\n",
    "        \n",
    "    def win_bet(self):\n",
    "        self.total += self.bet\n",
    "        \n",
    "    def lose_bet(self):\n",
    "        self.totat -= self.bet"
   ]
  },
  {
   "cell_type": "code",
   "execution_count": 53,
   "metadata": {},
   "outputs": [],
   "source": [
    "def take_bet(Chips):\n",
    "    \n",
    "    while True:\n",
    "        try:\n",
    "            Chips.bet = int(input('How many chips would you like to bet?'))\n",
    "        except:\n",
    "            print('Sorry, please provide integer!')\n",
    "        else:\n",
    "            if(Chips.bet > Chips.total):\n",
    "                print(f'Sorry you do not have enough Chips. You have {Chips.total} chips.')\n",
    "            else:\n",
    "                break"
   ]
  },
  {
   "cell_type": "code",
   "execution_count": 54,
   "metadata": {},
   "outputs": [],
   "source": [
    "def hit(deck,hand):\n",
    "    single_card = deck.deal_one()\n",
    "    hand.add_card(single_card)\n",
    "    hand.adjust_for_ace()"
   ]
  },
  {
   "cell_type": "code",
   "execution_count": 56,
   "metadata": {},
   "outputs": [],
   "source": [
    "def hit_or_stand(deck,hand):\n",
    "    global playing\n",
    "    \n",
    "    while True:\n",
    "        x = input('Hit or Stand? Enter h or s')\n",
    "        \n",
    "        if x[0].lower == 'h':\n",
    "            hit(deck,hand)\n",
    "        elif x[x].lower == 's':\n",
    "            print('Player stands Dealer\\'s turn')\n",
    "            playing = False\n",
    "        else:\n",
    "            print('Sorry, I did not understand that, Please enter h or s only')\n",
    "            continue"
   ]
  },
  {
   "cell_type": "code",
   "execution_count": null,
   "metadata": {},
   "outputs": [],
   "source": [
    "def player_busts(player,dealer,chips):\n",
    "    print(\"BUST PLAYER!\")\n",
    "    \n",
    "def player_wins(player,dealer,chips):\n",
    "    print('PLAYER WINS!')\n",
    "    chips.win_bet()\n",
    "    \n",
    "def dealer_busts(player,dealer,chips):\n",
    "    print('PLAYER WINS! DEALER BUSTED!')\n",
    "    chips.win_bet()\n",
    "    \n",
    "def dealer_wins(player,dealer,chips):\n",
    "    print('DEALER WINS')\n",
    "    chips.lose_bet()\n",
    "    \n",
    "de push(player,dealer):\n",
    "    print('Dealer and player tie! PUSH')"
   ]
  },
  {
   "cell_type": "code",
   "execution_count": null,
   "metadata": {},
   "outputs": [],
   "source": []
  },
  {
   "cell_type": "code",
   "execution_count": null,
   "metadata": {},
   "outputs": [],
   "source": []
  },
  {
   "cell_type": "code",
   "execution_count": null,
   "metadata": {},
   "outputs": [],
   "source": []
  },
  {
   "cell_type": "code",
   "execution_count": null,
   "metadata": {},
   "outputs": [],
   "source": []
  },
  {
   "cell_type": "code",
   "execution_count": null,
   "metadata": {},
   "outputs": [],
   "source": []
  }
 ],
 "metadata": {
  "kernelspec": {
   "display_name": "Python 3",
   "language": "python",
   "name": "python3"
  },
  "language_info": {
   "codemirror_mode": {
    "name": "ipython",
    "version": 3
   },
   "file_extension": ".py",
   "mimetype": "text/x-python",
   "name": "python",
   "nbconvert_exporter": "python",
   "pygments_lexer": "ipython3",
   "version": "3.8.3"
  }
 },
 "nbformat": 4,
 "nbformat_minor": 4
}
