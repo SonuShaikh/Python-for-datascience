{
 "cells": [
  {
   "cell_type": "code",
   "execution_count": 23,
   "metadata": {},
   "outputs": [],
   "source": [
    "def get_int_data():\n",
    "    while True:\n",
    "        try:\n",
    "            data = int(input('Enter a number : '))\n",
    "        except:\n",
    "            print('You haven\\'t enter Integer Number!!')\n",
    "            continue\n",
    "        else:\n",
    "            print('Thank you!!')\n",
    "            break\n",
    "        finally:\n",
    "            print('I alwasy execute')\n",
    "    "
   ]
  },
  {
   "cell_type": "code",
   "execution_count": 24,
   "metadata": {},
   "outputs": [
    {
     "name": "stdout",
     "output_type": "stream",
     "text": [
      "Enter a number : a\n",
      "You haven't enter Integer Number!!\n",
      "I alwasy execute\n",
      "Enter a number : 1\n",
      "Thank you!!\n",
      "I alwasy execute\n"
     ]
    }
   ],
   "source": [
    "get_int_data()"
   ]
  },
  {
   "cell_type": "code",
   "execution_count": 32,
   "metadata": {},
   "outputs": [
    {
     "name": "stdout",
     "output_type": "stream",
     "text": [
      "Everyting went well!!\n",
      "No matter, I alwasy prints\n"
     ]
    }
   ],
   "source": [
    "try:\n",
    "    f = open('sample.txt','w')\n",
    "    f.write(\"hello World\")\n",
    "except TypeError:\n",
    "    print('Invalidate Type')\n",
    "except OSError:\n",
    "    print('File open type error')\n",
    "else:\n",
    "    print('Everyting went well!!')\n",
    "finally:\n",
    "    print('No matter, I alwasy prints')  "
   ]
  },
  {
   "cell_type": "code",
   "execution_count": 34,
   "metadata": {},
   "outputs": [
    {
     "ename": "SyntaxError",
     "evalue": "invalid syntax (<ipython-input-34-f1f7e42fd40a>, line 1)",
     "output_type": "error",
     "traceback": [
      "\u001b[1;36m  File \u001b[1;32m\"<ipython-input-34-f1f7e42fd40a>\"\u001b[1;36m, line \u001b[1;32m1\u001b[0m\n\u001b[1;33m    pylint Simple.py\u001b[0m\n\u001b[1;37m           ^\u001b[0m\n\u001b[1;31mSyntaxError\u001b[0m\u001b[1;31m:\u001b[0m invalid syntax\n"
     ]
    }
   ],
   "source": [
    "pylint Simple.py"
   ]
  },
  {
   "cell_type": "code",
   "execution_count": null,
   "metadata": {},
   "outputs": [],
   "source": []
  }
 ],
 "metadata": {
  "kernelspec": {
   "display_name": "Python 3",
   "language": "python",
   "name": "python3"
  },
  "language_info": {
   "codemirror_mode": {
    "name": "ipython",
    "version": 3
   },
   "file_extension": ".py",
   "mimetype": "text/x-python",
   "name": "python",
   "nbconvert_exporter": "python",
   "pygments_lexer": "ipython3",
   "version": "3.8.3"
  }
 },
 "nbformat": 4,
 "nbformat_minor": 4
}
