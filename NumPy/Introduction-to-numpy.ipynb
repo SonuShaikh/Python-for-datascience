{
 "cells": [
  {
   "cell_type": "code",
   "execution_count": 2,
   "metadata": {},
   "outputs": [],
   "source": [
    "#import section\n",
    "import numpy as np\n",
    "import sys\n",
    "import time"
   ]
  },
  {
   "cell_type": "code",
   "execution_count": 7,
   "metadata": {},
   "outputs": [
    {
     "data": {
      "text/plain": [
       "2"
      ]
     },
     "execution_count": 7,
     "metadata": {},
     "output_type": "execute_result"
    }
   ],
   "source": [
    "#Creating NumPy array.\n",
    "a = np.array([1,2,3,4,7,3,4,6,9,0])\n",
    "a[1]"
   ]
  },
  {
   "cell_type": "markdown",
   "metadata": {},
   "source": [
    "#### Three main benefits of numpy array over a python list, <br/>\n",
    "\n",
    "1. Less Memory <br/>\n",
    "2. Fast <br/>\n",
    "3. Convinient\n",
    "\n",
    "#### *Most useful featur of numpy is n dimensional array*"
   ]
  },
  {
   "cell_type": "code",
   "execution_count": 13,
   "metadata": {},
   "outputs": [
    {
     "name": "stdout",
     "output_type": "stream",
     "text": [
      "Size of python list is 280000 Bits\n",
      "Size of numpy array is  4000 Bits\n"
     ]
    }
   ],
   "source": [
    "#Let's compare size of python list with numpy array size\n",
    "l = range(10000)\n",
    "print('Size of python list is',sys.getsizeof(8)*len(l),'Bits')\n",
    "\n",
    "array = np.arange(1000)\n",
    "print('Size of numpy array is ',array.size*array.itemsize,'Bits')"
   ]
  },
  {
   "cell_type": "code",
   "execution_count": 17,
   "metadata": {},
   "outputs": [
    {
     "name": "stdout",
     "output_type": "stream",
     "text": [
      "Python list took:- 288 mili sec.\n",
      "Numpy Array took:- 27 mili sec.\n"
     ]
    }
   ],
   "source": [
    "# Numpy Array is convinient that List\n",
    "size = 1000000\n",
    "\n",
    "# A list\n",
    "l1 = range(size)\n",
    "l2 = range(size)\n",
    "\n",
    "# A numpy Array\n",
    "a1 = np.arange(size)\n",
    "a2 = np.arange(size)\n",
    "\n",
    "#Python List\n",
    "start = time.time()\n",
    "result = [(x+y) for x,y in zip(l1,l2)]\n",
    "print('Python list took:-',round((time.time()-start)*1000),'mili sec.')\n",
    "\n",
    "#Numpy Array\n",
    "start = time.time()\n",
    "result = a1+a2\n",
    "print('Numpy Array took:-',round((time.time()-start)*1000),'mili sec.')\n"
   ]
  },
  {
   "cell_type": "markdown",
   "metadata": {},
   "source": [
    "#### Basic Array Operations"
   ]
  },
  {
   "cell_type": "code",
   "execution_count": null,
   "metadata": {},
   "outputs": [],
   "source": []
  },
  {
   "cell_type": "code",
   "execution_count": null,
   "metadata": {},
   "outputs": [],
   "source": []
  },
  {
   "cell_type": "code",
   "execution_count": null,
   "metadata": {},
   "outputs": [],
   "source": []
  },
  {
   "cell_type": "code",
   "execution_count": null,
   "metadata": {},
   "outputs": [],
   "source": []
  }
 ],
 "metadata": {
  "kernelspec": {
   "display_name": "Python 3",
   "language": "python",
   "name": "python3"
  },
  "language_info": {
   "codemirror_mode": {
    "name": "ipython",
    "version": 3
   },
   "file_extension": ".py",
   "mimetype": "text/x-python",
   "name": "python",
   "nbconvert_exporter": "python",
   "pygments_lexer": "ipython3",
   "version": "3.8.3"
  }
 },
 "nbformat": 4,
 "nbformat_minor": 4
}
